{
 "cells": [
  {
   "cell_type": "markdown",
   "id": "interracial-theta",
   "metadata": {
    "id": "distinct-jonathan"
   },
   "source": [
    "#### This dataset contains information on default payments, demographic factors, credit data, history of payment, and bill statements of credit card clients in Taiwan from April 2005 to September 2005.\n",
    "#### The dataset is available on both Kaggle and UCI and has 30000 rows and 25 columns\n",
    "#### the goal is to predict wether a customer will deafult on credit card payment for the month of November 2005 \n",
    "#### 0: not default, 1: default"
   ]
  },
  {
   "cell_type": "code",
   "execution_count": 1,
   "id": "respective-import",
   "metadata": {
    "id": "simple-participation"
   },
   "outputs": [],
   "source": [
    "import pandas as pd\n",
    "import numpy as np\n",
    "import seaborn as sns \n",
    "import matplotlib.pyplot as plt\n",
    "\n",
    "pd.set_option(\"display.max_columns\",100)"
   ]
  },
  {
   "cell_type": "markdown",
   "id": "beautiful-handling",
   "metadata": {
    "id": "immune-presentation"
   },
   "source": [
    "# 1) Importing data:"
   ]
  },
  {
   "cell_type": "code",
   "execution_count": 2,
   "id": "interracial-quest",
   "metadata": {
    "colab": {
     "base_uri": "https://localhost:8080/",
     "height": 439
    },
    "id": "abandoned-offset",
    "outputId": "0158e8e3-60e1-43bf-a074-810f1f975af9",
    "scrolled": true
   },
   "outputs": [
    {
     "data": {
      "text/html": [
       "<div>\n",
       "<style scoped>\n",
       "    .dataframe tbody tr th:only-of-type {\n",
       "        vertical-align: middle;\n",
       "    }\n",
       "\n",
       "    .dataframe tbody tr th {\n",
       "        vertical-align: top;\n",
       "    }\n",
       "\n",
       "    .dataframe thead th {\n",
       "        text-align: right;\n",
       "    }\n",
       "</style>\n",
       "<table border=\"1\" class=\"dataframe\">\n",
       "  <thead>\n",
       "    <tr style=\"text-align: right;\">\n",
       "      <th></th>\n",
       "      <th>ID</th>\n",
       "      <th>LIMIT_BAL</th>\n",
       "      <th>SEX</th>\n",
       "      <th>EDUCATION</th>\n",
       "      <th>MARRIAGE</th>\n",
       "      <th>AGE</th>\n",
       "      <th>PAY_1</th>\n",
       "      <th>PAY_2</th>\n",
       "      <th>PAY_3</th>\n",
       "      <th>PAY_4</th>\n",
       "      <th>PAY_5</th>\n",
       "      <th>PAY_6</th>\n",
       "      <th>BILL_AMT1</th>\n",
       "      <th>BILL_AMT2</th>\n",
       "      <th>BILL_AMT3</th>\n",
       "      <th>BILL_AMT4</th>\n",
       "      <th>BILL_AMT5</th>\n",
       "      <th>BILL_AMT6</th>\n",
       "      <th>PAY_AMT1</th>\n",
       "      <th>PAY_AMT2</th>\n",
       "      <th>PAY_AMT3</th>\n",
       "      <th>PAY_AMT4</th>\n",
       "      <th>PAY_AMT5</th>\n",
       "      <th>PAY_AMT6</th>\n",
       "      <th>target</th>\n",
       "    </tr>\n",
       "  </thead>\n",
       "  <tbody>\n",
       "    <tr>\n",
       "      <th>0</th>\n",
       "      <td>1</td>\n",
       "      <td>20000.0</td>\n",
       "      <td>2</td>\n",
       "      <td>2</td>\n",
       "      <td>1</td>\n",
       "      <td>24</td>\n",
       "      <td>2</td>\n",
       "      <td>2</td>\n",
       "      <td>-1</td>\n",
       "      <td>-1</td>\n",
       "      <td>-2</td>\n",
       "      <td>-2</td>\n",
       "      <td>3913.0</td>\n",
       "      <td>3102.0</td>\n",
       "      <td>689.0</td>\n",
       "      <td>0.0</td>\n",
       "      <td>0.0</td>\n",
       "      <td>0.0</td>\n",
       "      <td>0.0</td>\n",
       "      <td>689.0</td>\n",
       "      <td>0.0</td>\n",
       "      <td>0.0</td>\n",
       "      <td>0.0</td>\n",
       "      <td>0.0</td>\n",
       "      <td>1</td>\n",
       "    </tr>\n",
       "    <tr>\n",
       "      <th>1</th>\n",
       "      <td>2</td>\n",
       "      <td>120000.0</td>\n",
       "      <td>2</td>\n",
       "      <td>2</td>\n",
       "      <td>2</td>\n",
       "      <td>26</td>\n",
       "      <td>-1</td>\n",
       "      <td>2</td>\n",
       "      <td>0</td>\n",
       "      <td>0</td>\n",
       "      <td>0</td>\n",
       "      <td>2</td>\n",
       "      <td>2682.0</td>\n",
       "      <td>1725.0</td>\n",
       "      <td>2682.0</td>\n",
       "      <td>3272.0</td>\n",
       "      <td>3455.0</td>\n",
       "      <td>3261.0</td>\n",
       "      <td>0.0</td>\n",
       "      <td>1000.0</td>\n",
       "      <td>1000.0</td>\n",
       "      <td>1000.0</td>\n",
       "      <td>0.0</td>\n",
       "      <td>2000.0</td>\n",
       "      <td>1</td>\n",
       "    </tr>\n",
       "    <tr>\n",
       "      <th>2</th>\n",
       "      <td>3</td>\n",
       "      <td>90000.0</td>\n",
       "      <td>2</td>\n",
       "      <td>2</td>\n",
       "      <td>2</td>\n",
       "      <td>34</td>\n",
       "      <td>0</td>\n",
       "      <td>0</td>\n",
       "      <td>0</td>\n",
       "      <td>0</td>\n",
       "      <td>0</td>\n",
       "      <td>0</td>\n",
       "      <td>29239.0</td>\n",
       "      <td>14027.0</td>\n",
       "      <td>13559.0</td>\n",
       "      <td>14331.0</td>\n",
       "      <td>14948.0</td>\n",
       "      <td>15549.0</td>\n",
       "      <td>1518.0</td>\n",
       "      <td>1500.0</td>\n",
       "      <td>1000.0</td>\n",
       "      <td>1000.0</td>\n",
       "      <td>1000.0</td>\n",
       "      <td>5000.0</td>\n",
       "      <td>0</td>\n",
       "    </tr>\n",
       "    <tr>\n",
       "      <th>3</th>\n",
       "      <td>4</td>\n",
       "      <td>50000.0</td>\n",
       "      <td>2</td>\n",
       "      <td>2</td>\n",
       "      <td>1</td>\n",
       "      <td>37</td>\n",
       "      <td>0</td>\n",
       "      <td>0</td>\n",
       "      <td>0</td>\n",
       "      <td>0</td>\n",
       "      <td>0</td>\n",
       "      <td>0</td>\n",
       "      <td>46990.0</td>\n",
       "      <td>48233.0</td>\n",
       "      <td>49291.0</td>\n",
       "      <td>28314.0</td>\n",
       "      <td>28959.0</td>\n",
       "      <td>29547.0</td>\n",
       "      <td>2000.0</td>\n",
       "      <td>2019.0</td>\n",
       "      <td>1200.0</td>\n",
       "      <td>1100.0</td>\n",
       "      <td>1069.0</td>\n",
       "      <td>1000.0</td>\n",
       "      <td>0</td>\n",
       "    </tr>\n",
       "    <tr>\n",
       "      <th>4</th>\n",
       "      <td>5</td>\n",
       "      <td>50000.0</td>\n",
       "      <td>1</td>\n",
       "      <td>2</td>\n",
       "      <td>1</td>\n",
       "      <td>57</td>\n",
       "      <td>-1</td>\n",
       "      <td>0</td>\n",
       "      <td>-1</td>\n",
       "      <td>0</td>\n",
       "      <td>0</td>\n",
       "      <td>0</td>\n",
       "      <td>8617.0</td>\n",
       "      <td>5670.0</td>\n",
       "      <td>35835.0</td>\n",
       "      <td>20940.0</td>\n",
       "      <td>19146.0</td>\n",
       "      <td>19131.0</td>\n",
       "      <td>2000.0</td>\n",
       "      <td>36681.0</td>\n",
       "      <td>10000.0</td>\n",
       "      <td>9000.0</td>\n",
       "      <td>689.0</td>\n",
       "      <td>679.0</td>\n",
       "      <td>0</td>\n",
       "    </tr>\n",
       "    <tr>\n",
       "      <th>...</th>\n",
       "      <td>...</td>\n",
       "      <td>...</td>\n",
       "      <td>...</td>\n",
       "      <td>...</td>\n",
       "      <td>...</td>\n",
       "      <td>...</td>\n",
       "      <td>...</td>\n",
       "      <td>...</td>\n",
       "      <td>...</td>\n",
       "      <td>...</td>\n",
       "      <td>...</td>\n",
       "      <td>...</td>\n",
       "      <td>...</td>\n",
       "      <td>...</td>\n",
       "      <td>...</td>\n",
       "      <td>...</td>\n",
       "      <td>...</td>\n",
       "      <td>...</td>\n",
       "      <td>...</td>\n",
       "      <td>...</td>\n",
       "      <td>...</td>\n",
       "      <td>...</td>\n",
       "      <td>...</td>\n",
       "      <td>...</td>\n",
       "      <td>...</td>\n",
       "    </tr>\n",
       "    <tr>\n",
       "      <th>29995</th>\n",
       "      <td>29996</td>\n",
       "      <td>220000.0</td>\n",
       "      <td>1</td>\n",
       "      <td>3</td>\n",
       "      <td>1</td>\n",
       "      <td>39</td>\n",
       "      <td>0</td>\n",
       "      <td>0</td>\n",
       "      <td>0</td>\n",
       "      <td>0</td>\n",
       "      <td>0</td>\n",
       "      <td>0</td>\n",
       "      <td>188948.0</td>\n",
       "      <td>192815.0</td>\n",
       "      <td>208365.0</td>\n",
       "      <td>88004.0</td>\n",
       "      <td>31237.0</td>\n",
       "      <td>15980.0</td>\n",
       "      <td>8500.0</td>\n",
       "      <td>20000.0</td>\n",
       "      <td>5003.0</td>\n",
       "      <td>3047.0</td>\n",
       "      <td>5000.0</td>\n",
       "      <td>1000.0</td>\n",
       "      <td>0</td>\n",
       "    </tr>\n",
       "    <tr>\n",
       "      <th>29996</th>\n",
       "      <td>29997</td>\n",
       "      <td>150000.0</td>\n",
       "      <td>1</td>\n",
       "      <td>3</td>\n",
       "      <td>2</td>\n",
       "      <td>43</td>\n",
       "      <td>-1</td>\n",
       "      <td>-1</td>\n",
       "      <td>-1</td>\n",
       "      <td>-1</td>\n",
       "      <td>0</td>\n",
       "      <td>0</td>\n",
       "      <td>1683.0</td>\n",
       "      <td>1828.0</td>\n",
       "      <td>3502.0</td>\n",
       "      <td>8979.0</td>\n",
       "      <td>5190.0</td>\n",
       "      <td>0.0</td>\n",
       "      <td>1837.0</td>\n",
       "      <td>3526.0</td>\n",
       "      <td>8998.0</td>\n",
       "      <td>129.0</td>\n",
       "      <td>0.0</td>\n",
       "      <td>0.0</td>\n",
       "      <td>0</td>\n",
       "    </tr>\n",
       "    <tr>\n",
       "      <th>29997</th>\n",
       "      <td>29998</td>\n",
       "      <td>30000.0</td>\n",
       "      <td>1</td>\n",
       "      <td>2</td>\n",
       "      <td>2</td>\n",
       "      <td>37</td>\n",
       "      <td>4</td>\n",
       "      <td>3</td>\n",
       "      <td>2</td>\n",
       "      <td>-1</td>\n",
       "      <td>0</td>\n",
       "      <td>0</td>\n",
       "      <td>3565.0</td>\n",
       "      <td>3356.0</td>\n",
       "      <td>2758.0</td>\n",
       "      <td>20878.0</td>\n",
       "      <td>20582.0</td>\n",
       "      <td>19357.0</td>\n",
       "      <td>0.0</td>\n",
       "      <td>0.0</td>\n",
       "      <td>22000.0</td>\n",
       "      <td>4200.0</td>\n",
       "      <td>2000.0</td>\n",
       "      <td>3100.0</td>\n",
       "      <td>1</td>\n",
       "    </tr>\n",
       "    <tr>\n",
       "      <th>29998</th>\n",
       "      <td>29999</td>\n",
       "      <td>80000.0</td>\n",
       "      <td>1</td>\n",
       "      <td>3</td>\n",
       "      <td>1</td>\n",
       "      <td>41</td>\n",
       "      <td>1</td>\n",
       "      <td>-1</td>\n",
       "      <td>0</td>\n",
       "      <td>0</td>\n",
       "      <td>0</td>\n",
       "      <td>-1</td>\n",
       "      <td>-1645.0</td>\n",
       "      <td>78379.0</td>\n",
       "      <td>76304.0</td>\n",
       "      <td>52774.0</td>\n",
       "      <td>11855.0</td>\n",
       "      <td>48944.0</td>\n",
       "      <td>85900.0</td>\n",
       "      <td>3409.0</td>\n",
       "      <td>1178.0</td>\n",
       "      <td>1926.0</td>\n",
       "      <td>52964.0</td>\n",
       "      <td>1804.0</td>\n",
       "      <td>1</td>\n",
       "    </tr>\n",
       "    <tr>\n",
       "      <th>29999</th>\n",
       "      <td>30000</td>\n",
       "      <td>50000.0</td>\n",
       "      <td>1</td>\n",
       "      <td>2</td>\n",
       "      <td>1</td>\n",
       "      <td>46</td>\n",
       "      <td>0</td>\n",
       "      <td>0</td>\n",
       "      <td>0</td>\n",
       "      <td>0</td>\n",
       "      <td>0</td>\n",
       "      <td>0</td>\n",
       "      <td>47929.0</td>\n",
       "      <td>48905.0</td>\n",
       "      <td>49764.0</td>\n",
       "      <td>36535.0</td>\n",
       "      <td>32428.0</td>\n",
       "      <td>15313.0</td>\n",
       "      <td>2078.0</td>\n",
       "      <td>1800.0</td>\n",
       "      <td>1430.0</td>\n",
       "      <td>1000.0</td>\n",
       "      <td>1000.0</td>\n",
       "      <td>1000.0</td>\n",
       "      <td>1</td>\n",
       "    </tr>\n",
       "  </tbody>\n",
       "</table>\n",
       "<p>30000 rows × 25 columns</p>\n",
       "</div>"
      ],
      "text/plain": [
       "          ID  LIMIT_BAL  SEX  EDUCATION  MARRIAGE  AGE  PAY_1  PAY_2  PAY_3  \\\n",
       "0          1    20000.0    2          2         1   24      2      2     -1   \n",
       "1          2   120000.0    2          2         2   26     -1      2      0   \n",
       "2          3    90000.0    2          2         2   34      0      0      0   \n",
       "3          4    50000.0    2          2         1   37      0      0      0   \n",
       "4          5    50000.0    1          2         1   57     -1      0     -1   \n",
       "...      ...        ...  ...        ...       ...  ...    ...    ...    ...   \n",
       "29995  29996   220000.0    1          3         1   39      0      0      0   \n",
       "29996  29997   150000.0    1          3         2   43     -1     -1     -1   \n",
       "29997  29998    30000.0    1          2         2   37      4      3      2   \n",
       "29998  29999    80000.0    1          3         1   41      1     -1      0   \n",
       "29999  30000    50000.0    1          2         1   46      0      0      0   \n",
       "\n",
       "       PAY_4  PAY_5  PAY_6  BILL_AMT1  BILL_AMT2  BILL_AMT3  BILL_AMT4  \\\n",
       "0         -1     -2     -2     3913.0     3102.0      689.0        0.0   \n",
       "1          0      0      2     2682.0     1725.0     2682.0     3272.0   \n",
       "2          0      0      0    29239.0    14027.0    13559.0    14331.0   \n",
       "3          0      0      0    46990.0    48233.0    49291.0    28314.0   \n",
       "4          0      0      0     8617.0     5670.0    35835.0    20940.0   \n",
       "...      ...    ...    ...        ...        ...        ...        ...   \n",
       "29995      0      0      0   188948.0   192815.0   208365.0    88004.0   \n",
       "29996     -1      0      0     1683.0     1828.0     3502.0     8979.0   \n",
       "29997     -1      0      0     3565.0     3356.0     2758.0    20878.0   \n",
       "29998      0      0     -1    -1645.0    78379.0    76304.0    52774.0   \n",
       "29999      0      0      0    47929.0    48905.0    49764.0    36535.0   \n",
       "\n",
       "       BILL_AMT5  BILL_AMT6  PAY_AMT1  PAY_AMT2  PAY_AMT3  PAY_AMT4  PAY_AMT5  \\\n",
       "0            0.0        0.0       0.0     689.0       0.0       0.0       0.0   \n",
       "1         3455.0     3261.0       0.0    1000.0    1000.0    1000.0       0.0   \n",
       "2        14948.0    15549.0    1518.0    1500.0    1000.0    1000.0    1000.0   \n",
       "3        28959.0    29547.0    2000.0    2019.0    1200.0    1100.0    1069.0   \n",
       "4        19146.0    19131.0    2000.0   36681.0   10000.0    9000.0     689.0   \n",
       "...          ...        ...       ...       ...       ...       ...       ...   \n",
       "29995    31237.0    15980.0    8500.0   20000.0    5003.0    3047.0    5000.0   \n",
       "29996     5190.0        0.0    1837.0    3526.0    8998.0     129.0       0.0   \n",
       "29997    20582.0    19357.0       0.0       0.0   22000.0    4200.0    2000.0   \n",
       "29998    11855.0    48944.0   85900.0    3409.0    1178.0    1926.0   52964.0   \n",
       "29999    32428.0    15313.0    2078.0    1800.0    1430.0    1000.0    1000.0   \n",
       "\n",
       "       PAY_AMT6  target  \n",
       "0           0.0       1  \n",
       "1        2000.0       1  \n",
       "2        5000.0       0  \n",
       "3        1000.0       0  \n",
       "4         679.0       0  \n",
       "...         ...     ...  \n",
       "29995    1000.0       0  \n",
       "29996       0.0       0  \n",
       "29997    3100.0       1  \n",
       "29998    1804.0       1  \n",
       "29999    1000.0       1  \n",
       "\n",
       "[30000 rows x 25 columns]"
      ]
     },
     "execution_count": 2,
     "metadata": {},
     "output_type": "execute_result"
    }
   ],
   "source": [
    "# we import the daata and change the column names of \n",
    "#\"default.payment.next.month\" and 'PAY_0' to \"target\" and \"PAY_1\" respectively\n",
    "\n",
    "data = pd.read_csv(\"UCI_Credit_Card.csv\")\n",
    "df = data.copy()\n",
    "df.rename(columns={\"default.payment.next.month\":\"target\", 'PAY_0':'PAY_1'}, inplace=True)\n",
    "df"
   ]
  },
  {
   "cell_type": "markdown",
   "id": "different-festival",
   "metadata": {
    "id": "announced-robinson"
   },
   "source": [
    "# 2) Preliminary analysis on data:"
   ]
  },
  {
   "cell_type": "code",
   "execution_count": 3,
   "id": "incident-sister",
   "metadata": {
    "colab": {
     "base_uri": "https://localhost:8080/"
    },
    "id": "generous-correspondence",
    "outputId": "91e02428-53e2-4982-ccb1-570425c059dc"
   },
   "outputs": [
    {
     "name": "stdout",
     "output_type": "stream",
     "text": [
      "<class 'pandas.core.frame.DataFrame'>\n",
      "RangeIndex: 30000 entries, 0 to 29999\n",
      "Data columns (total 25 columns):\n",
      " #   Column     Non-Null Count  Dtype  \n",
      "---  ------     --------------  -----  \n",
      " 0   ID         30000 non-null  int64  \n",
      " 1   LIMIT_BAL  30000 non-null  float64\n",
      " 2   SEX        30000 non-null  int64  \n",
      " 3   EDUCATION  30000 non-null  int64  \n",
      " 4   MARRIAGE   30000 non-null  int64  \n",
      " 5   AGE        30000 non-null  int64  \n",
      " 6   PAY_1      30000 non-null  int64  \n",
      " 7   PAY_2      30000 non-null  int64  \n",
      " 8   PAY_3      30000 non-null  int64  \n",
      " 9   PAY_4      30000 non-null  int64  \n",
      " 10  PAY_5      30000 non-null  int64  \n",
      " 11  PAY_6      30000 non-null  int64  \n",
      " 12  BILL_AMT1  30000 non-null  float64\n",
      " 13  BILL_AMT2  30000 non-null  float64\n",
      " 14  BILL_AMT3  30000 non-null  float64\n",
      " 15  BILL_AMT4  30000 non-null  float64\n",
      " 16  BILL_AMT5  30000 non-null  float64\n",
      " 17  BILL_AMT6  30000 non-null  float64\n",
      " 18  PAY_AMT1   30000 non-null  float64\n",
      " 19  PAY_AMT2   30000 non-null  float64\n",
      " 20  PAY_AMT3   30000 non-null  float64\n",
      " 21  PAY_AMT4   30000 non-null  float64\n",
      " 22  PAY_AMT5   30000 non-null  float64\n",
      " 23  PAY_AMT6   30000 non-null  float64\n",
      " 24  target     30000 non-null  int64  \n",
      "dtypes: float64(13), int64(12)\n",
      "memory usage: 5.7 MB\n"
     ]
    }
   ],
   "source": [
    "# we see that we have no null values, therefore we can now move on too preprocesssing on each column\n",
    "\n",
    "df.info()"
   ]
  },
  {
   "cell_type": "code",
   "execution_count": 4,
   "id": "sustained-relations",
   "metadata": {
    "colab": {
     "base_uri": "https://localhost:8080/"
    },
    "id": "public-grove",
    "outputId": "0a77905b-732b-4328-94da-7ed60290a7b9"
   },
   "outputs": [
    {
     "data": {
      "text/plain": [
       "ID           0\n",
       "LIMIT_BAL    0\n",
       "SEX          0\n",
       "EDUCATION    0\n",
       "MARRIAGE     0\n",
       "AGE          0\n",
       "PAY_1        0\n",
       "PAY_2        0\n",
       "PAY_3        0\n",
       "PAY_4        0\n",
       "PAY_5        0\n",
       "PAY_6        0\n",
       "BILL_AMT1    0\n",
       "BILL_AMT2    0\n",
       "BILL_AMT3    0\n",
       "BILL_AMT4    0\n",
       "BILL_AMT5    0\n",
       "BILL_AMT6    0\n",
       "PAY_AMT1     0\n",
       "PAY_AMT2     0\n",
       "PAY_AMT3     0\n",
       "PAY_AMT4     0\n",
       "PAY_AMT5     0\n",
       "PAY_AMT6     0\n",
       "target       0\n",
       "dtype: int64"
      ]
     },
     "execution_count": 4,
     "metadata": {},
     "output_type": "execute_result"
    }
   ],
   "source": [
    "# we see that we have no missing vales either \n",
    "df.isna().sum()"
   ]
  },
  {
   "cell_type": "markdown",
   "id": "exclusive-lightweight",
   "metadata": {
    "id": "informed-taxation"
   },
   "source": [
    "# 3) Analysing each column and making necessary changes:"
   ]
  },
  {
   "cell_type": "markdown",
   "id": "imported-richmond",
   "metadata": {
    "id": "favorite-letters"
   },
   "source": [
    "## 1) ID"
   ]
  },
  {
   "cell_type": "code",
   "execution_count": 5,
   "id": "optional-paper",
   "metadata": {
    "id": "awful-fortune"
   },
   "outputs": [],
   "source": [
    "###### we drop this column as it provides no important information\n",
    "df.drop('ID',axis=1,inplace=True)"
   ]
  },
  {
   "cell_type": "markdown",
   "id": "female-kidney",
   "metadata": {
    "id": "acceptable-theta"
   },
   "source": [
    "## 2) Limit Bal"
   ]
  },
  {
   "cell_type": "code",
   "execution_count": 6,
   "id": "tutorial-millennium",
   "metadata": {
    "colab": {
     "base_uri": "https://localhost:8080/"
    },
    "id": "tight-hypothetical",
    "outputId": "37530cb2-e408-41d9-dbc5-cda952e15345"
   },
   "outputs": [
    {
     "name": "stdout",
     "output_type": "stream",
     "text": [
      "1000000.0\n",
      "10000.0\n"
     ]
    }
   ],
   "source": [
    "print(df['LIMIT_BAL'].max())\n",
    "print(df['LIMIT_BAL'].min())\n"
   ]
  },
  {
   "cell_type": "code",
   "execution_count": 7,
   "id": "concerned-original",
   "metadata": {
    "colab": {
     "base_uri": "https://localhost:8080/",
     "height": 351
    },
    "id": "needed-tribute",
    "outputId": "102608a4-b209-4b8d-bcb4-05ee25a61a9e"
   },
   "outputs": [
    {
     "name": "stderr",
     "output_type": "stream",
     "text": [
      "/usr/local/lib/python3.7/dist-packages/seaborn/_decorators.py:43: FutureWarning: Pass the following variable as a keyword arg: x. From version 0.12, the only valid positional argument will be `data`, and passing other arguments without an explicit keyword will result in an error or misinterpretation.\n",
      "  FutureWarning\n"
     ]
    },
    {
     "data": {
      "text/plain": [
       "<matplotlib.axes._subplots.AxesSubplot at 0x7f932ae55990>"
      ]
     },
     "execution_count": 7,
     "metadata": {},
     "output_type": "execute_result"
    },
    {
     "data": {
      "image/png": "[encoded data removed]",
      "text/plain": [
       "<Figure size 432x288 with 1 Axes>"
      ]
     },
     "metadata": {
      "needs_background": "light"
     },
     "output_type": "display_data"
    }
   ],
   "source": [
    "#check for outliers using box plot \n",
    "sns.boxplot(df['LIMIT_BAL'])"
   ]
  },
  {
   "cell_type": "code",
   "execution_count": 8,
   "id": "presidential-roman",
   "metadata": {
    "colab": {
     "base_uri": "https://localhost:8080/"
    },
    "id": "broad-first",
    "outputId": "c735f431-36c6-435e-aa06-8dab282b4d9f"
   },
   "outputs": [
    {
     "name": "stdout",
     "output_type": "stream",
     "text": [
      "190000.0\n",
      "number of outliers in LIMIT_BAL:167\n",
      "outliers form : 0.5566666666666666 % of total rows\n"
     ]
    }
   ],
   "source": [
    "# we count the number of outliers in LIMIT_BAL\n",
    "# We calculate the lower and upper fence\n",
    "# We display the total number of outliers \n",
    "\n",
    "q1 = df['LIMIT_BAL'].quantile(0.25)\n",
    "q3 = df['LIMIT_BAL'].quantile(0.75)\n",
    "\n",
    "iqr = q3 -q1\n",
    "print(iqr)\n",
    "lower_fence = q1 - 1.5 * iqr\n",
    "upper_fence = q3 + 1.5 * iqr\n",
    "\n",
    "df2 = df[((df['LIMIT_BAL']<lower_fence)|(df['LIMIT_BAL']>upper_fence))]\n",
    "print(\"number of outliers in LIMIT_BAL:\" + str(df2.shape[0]))\n",
    "print(\"outliers form :\", (df2.shape[0]/df.shape[0])*100 , \"% of total rows\")"
   ]
  },
  {
   "cell_type": "code",
   "execution_count": 9,
   "id": "empirical-bikini",
   "metadata": {
    "id": "opponent-quick"
   },
   "outputs": [],
   "source": [
    "#number of outluers form less than 1% of total rows, therefore we drop the rows with outliers for LIMIT_BAL\n",
    "df = df[~((df['LIMIT_BAL']<lower_fence)|(df['LIMIT_BAL']>upper_fence))]"
   ]
  },
  {
   "cell_type": "code",
   "execution_count": 10,
   "id": "executive-cornell",
   "metadata": {
    "colab": {
     "base_uri": "https://localhost:8080/",
     "height": 351
    },
    "id": "enclosed-alarm",
    "outputId": "52f1c391-818d-4227-9a80-e056f2e0a80e"
   },
   "outputs": [
    {
     "name": "stderr",
     "output_type": "stream",
     "text": [
      "/usr/local/lib/python3.7/dist-packages/seaborn/_decorators.py:43: FutureWarning: Pass the following variable as a keyword arg: x. From version 0.12, the only valid positional argument will be `data`, and passing other arguments without an explicit keyword will result in an error or misinterpretation.\n",
      "  FutureWarning\n"
     ]
    },
    {
     "data": {
      "text/plain": [
       "<matplotlib.axes._subplots.AxesSubplot at 0x7f932adad790>"
      ]
     },
     "execution_count": 10,
     "metadata": {},
     "output_type": "execute_result"
    },
    {
     "data": {
      "image/png": "[encoded data removed]",
      "text/plain": [
       "<Figure size 432x288 with 1 Axes>"
      ]
     },
     "metadata": {
      "needs_background": "light"
     },
     "output_type": "display_data"
    }
   ],
   "source": [
    "# we see that all the outliers have been removed \n",
    "sns.boxplot(df['LIMIT_BAL'])"
   ]
  },
  {
   "cell_type": "code",
   "execution_count": 11,
   "id": "crazy-adolescent",
   "metadata": {
    "colab": {
     "base_uri": "https://localhost:8080/"
    },
    "id": "universal-stevens",
    "outputId": "2d83df45-f1d9-4dd7-c5c4-c8d6cfd702fb"
   },
   "outputs": [
    {
     "data": {
      "text/plain": [
       "[(9490.0, 112000.0], (112000.0, 214000.0], (418000.0, 520000.0], (214000.0, 316000.0], (316000.0, 418000.0]]\n",
       "Categories (5, interval[float64]): [(9490.0, 112000.0] < (112000.0, 214000.0] < (214000.0, 316000.0] <\n",
       "                                    (316000.0, 418000.0] < (418000.0, 520000.0]]"
      ]
     },
     "execution_count": 11,
     "metadata": {},
     "output_type": "execute_result"
    }
   ],
   "source": [
    "# creare five equally distributed categories for LIMIT_BAL\n",
    "pd.cut(df['LIMIT_BAL'],5).unique()"
   ]
  },
  {
   "cell_type": "code",
   "execution_count": 12,
   "id": "caring-liver",
   "metadata": {
    "colab": {
     "base_uri": "https://localhost:8080/"
    },
    "id": "subjective-teaching",
    "outputId": "7c6bf5de-414e-49af-964f-acc7298e1926"
   },
   "outputs": [
    {
     "name": "stderr",
     "output_type": "stream",
     "text": [
      "/usr/local/lib/python3.7/dist-packages/ipykernel_launcher.py:2: SettingWithCopyWarning: \n",
      "A value is trying to be set on a copy of a slice from a DataFrame.\n",
      "Try using .loc[row_indexer,col_indexer] = value instead\n",
      "\n",
      "See the caveats in the documentation: https://pandas.pydata.org/pandas-docs/stable/user_guide/indexing.html#returning-a-view-versus-a-copy\n",
      "  \n"
     ]
    },
    {
     "data": {
      "text/plain": [
       "0          (9490.0, 112000.0]\n",
       "1        (112000.0, 214000.0]\n",
       "2          (9490.0, 112000.0]\n",
       "3          (9490.0, 112000.0]\n",
       "4          (9490.0, 112000.0]\n",
       "                 ...         \n",
       "29995    (214000.0, 316000.0]\n",
       "29996    (112000.0, 214000.0]\n",
       "29997      (9490.0, 112000.0]\n",
       "29998      (9490.0, 112000.0]\n",
       "29999      (9490.0, 112000.0]\n",
       "Name: Categorical_LIMIT_BAL, Length: 29833, dtype: category\n",
       "Categories (5, interval[float64]): [(9490.0, 112000.0] < (112000.0, 214000.0] < (214000.0, 316000.0] <\n",
       "                                    (316000.0, 418000.0] < (418000.0, 520000.0]]"
      ]
     },
     "execution_count": 12,
     "metadata": {},
     "output_type": "execute_result"
    }
   ],
   "source": [
    "# create a column that has the category for each of the LIMIT_BAL value\n",
    "df['Categorical_LIMIT_BAL'] = pd.cut(df['LIMIT_BAL'],5)\n",
    "df['Categorical_LIMIT_BAL']"
   ]
  },
  {
   "cell_type": "markdown",
   "id": "cultural-helena",
   "metadata": {
    "id": "portable-aspect"
   },
   "source": [
    "## 3) Sex"
   ]
  },
  {
   "cell_type": "code",
   "execution_count": 13,
   "id": "tamil-classic",
   "metadata": {
    "colab": {
     "base_uri": "https://localhost:8080/"
    },
    "id": "administrative-macro",
    "outputId": "807ca430-6ac1-4200-e85b-89d331a01edd"
   },
   "outputs": [
    {
     "data": {
      "text/plain": [
       "array([2, 1])"
      ]
     },
     "execution_count": 13,
     "metadata": {},
     "output_type": "execute_result"
    }
   ],
   "source": [
    "# The dataset has 1 = male, 2 = female\n",
    "df['SEX'].unique()"
   ]
  },
  {
   "cell_type": "code",
   "execution_count": 14,
   "id": "patent-carroll",
   "metadata": {
    "id": "persistent-ethics"
   },
   "outputs": [],
   "source": [
    "# make it 0 = male , 1 = female\n",
    "for i,data in df.iterrows():           \n",
    "    if data['SEX'] == 1:   \n",
    "        df.at[i,\"SEX\"] = 0\n",
    "    if data['SEX'] == 2:   \n",
    "        df.at[i,\"SEX\"] = 1    "
   ]
  },
  {
   "cell_type": "code",
   "execution_count": 15,
   "id": "automatic-scout",
   "metadata": {
    "colab": {
     "base_uri": "https://localhost:8080/"
    },
    "id": "attempted-circle",
    "outputId": "42967c87-a01f-434d-c2d6-c14959a931b2"
   },
   "outputs": [
    {
     "data": {
      "text/plain": [
       "array([1, 0])"
      ]
     },
     "execution_count": 15,
     "metadata": {},
     "output_type": "execute_result"
    }
   ],
   "source": [
    "df['SEX'].unique()"
   ]
  },
  {
   "cell_type": "markdown",
   "id": "absent-granny",
   "metadata": {
    "id": "unable-stationery"
   },
   "source": [
    "## 4) Education"
   ]
  },
  {
   "cell_type": "code",
   "execution_count": 16,
   "id": "tropical-indianapolis",
   "metadata": {
    "colab": {
     "base_uri": "https://localhost:8080/"
    },
    "id": "supported-magazine",
    "outputId": "bf78646e-c65b-4842-aa14-54c2cc32e4fe"
   },
   "outputs": [
    {
     "data": {
      "text/plain": [
       "array([2, 1, 3, 5, 4, 6, 0])"
      ]
     },
     "execution_count": 16,
     "metadata": {},
     "output_type": "execute_result"
    }
   ],
   "source": [
    "# The dataset has values as EDUCATION: (1=graduate school, 2=university, 3=high school, 4=others, 5=unknown, 6=unknown)\n",
    "# 5 and 6 are unknown so we drop rows with this value\n",
    "\n",
    "df['EDUCATION'].unique()"
   ]
  },
  {
   "cell_type": "code",
   "execution_count": 17,
   "id": "contemporary-rugby",
   "metadata": {
    "colab": {
     "base_uri": "https://localhost:8080/",
     "height": 0
    },
    "id": "starting-mother",
    "outputId": "76e9e431-1e96-4cc3-fac8-97f86fe2fdd8"
   },
   "outputs": [
    {
     "data": {
      "text/html": [
       "<div>\n",
       "<style scoped>\n",
       "    .dataframe tbody tr th:only-of-type {\n",
       "        vertical-align: middle;\n",
       "    }\n",
       "\n",
       "    .dataframe tbody tr th {\n",
       "        vertical-align: top;\n",
       "    }\n",
       "\n",
       "    .dataframe thead th {\n",
       "        text-align: right;\n",
       "    }\n",
       "</style>\n",
       "<table border=\"1\" class=\"dataframe\">\n",
       "  <thead>\n",
       "    <tr style=\"text-align: right;\">\n",
       "      <th></th>\n",
       "      <th>LIMIT_BAL</th>\n",
       "      <th>SEX</th>\n",
       "      <th>EDUCATION</th>\n",
       "      <th>MARRIAGE</th>\n",
       "      <th>AGE</th>\n",
       "      <th>PAY_1</th>\n",
       "      <th>PAY_2</th>\n",
       "      <th>PAY_3</th>\n",
       "      <th>PAY_4</th>\n",
       "      <th>PAY_5</th>\n",
       "      <th>PAY_6</th>\n",
       "      <th>BILL_AMT1</th>\n",
       "      <th>BILL_AMT2</th>\n",
       "      <th>BILL_AMT3</th>\n",
       "      <th>BILL_AMT4</th>\n",
       "      <th>BILL_AMT5</th>\n",
       "      <th>BILL_AMT6</th>\n",
       "      <th>PAY_AMT1</th>\n",
       "      <th>PAY_AMT2</th>\n",
       "      <th>PAY_AMT3</th>\n",
       "      <th>PAY_AMT4</th>\n",
       "      <th>PAY_AMT5</th>\n",
       "      <th>PAY_AMT6</th>\n",
       "      <th>target</th>\n",
       "      <th>Categorical_LIMIT_BAL</th>\n",
       "    </tr>\n",
       "  </thead>\n",
       "  <tbody>\n",
       "    <tr>\n",
       "      <th>47</th>\n",
       "      <td>150000.0</td>\n",
       "      <td>1</td>\n",
       "      <td>5</td>\n",
       "      <td>2</td>\n",
       "      <td>46</td>\n",
       "      <td>0</td>\n",
       "      <td>0</td>\n",
       "      <td>-1</td>\n",
       "      <td>0</td>\n",
       "      <td>0</td>\n",
       "      <td>-2</td>\n",
       "      <td>4463.0</td>\n",
       "      <td>3034.0</td>\n",
       "      <td>1170.0</td>\n",
       "      <td>1170.0</td>\n",
       "      <td>0.0</td>\n",
       "      <td>0.0</td>\n",
       "      <td>1013.0</td>\n",
       "      <td>1170.0</td>\n",
       "      <td>0.0</td>\n",
       "      <td>0.0</td>\n",
       "      <td>0.0</td>\n",
       "      <td>0.0</td>\n",
       "      <td>1</td>\n",
       "      <td>(112000.0, 214000.0]</td>\n",
       "    </tr>\n",
       "    <tr>\n",
       "      <th>69</th>\n",
       "      <td>20000.0</td>\n",
       "      <td>0</td>\n",
       "      <td>5</td>\n",
       "      <td>2</td>\n",
       "      <td>22</td>\n",
       "      <td>2</td>\n",
       "      <td>0</td>\n",
       "      <td>0</td>\n",
       "      <td>0</td>\n",
       "      <td>0</td>\n",
       "      <td>0</td>\n",
       "      <td>18565.0</td>\n",
       "      <td>17204.0</td>\n",
       "      <td>17285.0</td>\n",
       "      <td>18085.0</td>\n",
       "      <td>11205.0</td>\n",
       "      <td>5982.0</td>\n",
       "      <td>0.0</td>\n",
       "      <td>1200.0</td>\n",
       "      <td>1000.0</td>\n",
       "      <td>500.0</td>\n",
       "      <td>1000.0</td>\n",
       "      <td>0.0</td>\n",
       "      <td>0</td>\n",
       "      <td>(9490.0, 112000.0]</td>\n",
       "    </tr>\n",
       "    <tr>\n",
       "      <th>385</th>\n",
       "      <td>410000.0</td>\n",
       "      <td>1</td>\n",
       "      <td>5</td>\n",
       "      <td>1</td>\n",
       "      <td>42</td>\n",
       "      <td>0</td>\n",
       "      <td>0</td>\n",
       "      <td>0</td>\n",
       "      <td>0</td>\n",
       "      <td>0</td>\n",
       "      <td>0</td>\n",
       "      <td>338106.0</td>\n",
       "      <td>342904.0</td>\n",
       "      <td>344464.0</td>\n",
       "      <td>240865.0</td>\n",
       "      <td>234939.0</td>\n",
       "      <td>240176.0</td>\n",
       "      <td>15000.0</td>\n",
       "      <td>14000.0</td>\n",
       "      <td>9000.0</td>\n",
       "      <td>8500.0</td>\n",
       "      <td>9000.0</td>\n",
       "      <td>8300.0</td>\n",
       "      <td>0</td>\n",
       "      <td>(316000.0, 418000.0]</td>\n",
       "    </tr>\n",
       "    <tr>\n",
       "      <th>502</th>\n",
       "      <td>230000.0</td>\n",
       "      <td>1</td>\n",
       "      <td>6</td>\n",
       "      <td>2</td>\n",
       "      <td>46</td>\n",
       "      <td>0</td>\n",
       "      <td>0</td>\n",
       "      <td>0</td>\n",
       "      <td>0</td>\n",
       "      <td>0</td>\n",
       "      <td>0</td>\n",
       "      <td>221590.0</td>\n",
       "      <td>227397.0</td>\n",
       "      <td>230302.0</td>\n",
       "      <td>186635.0</td>\n",
       "      <td>189896.0</td>\n",
       "      <td>193351.0</td>\n",
       "      <td>10000.0</td>\n",
       "      <td>9000.0</td>\n",
       "      <td>8000.0</td>\n",
       "      <td>8000.0</td>\n",
       "      <td>7500.0</td>\n",
       "      <td>7000.0</td>\n",
       "      <td>0</td>\n",
       "      <td>(214000.0, 316000.0]</td>\n",
       "    </tr>\n",
       "    <tr>\n",
       "      <th>504</th>\n",
       "      <td>30000.0</td>\n",
       "      <td>0</td>\n",
       "      <td>6</td>\n",
       "      <td>1</td>\n",
       "      <td>53</td>\n",
       "      <td>-2</td>\n",
       "      <td>-2</td>\n",
       "      <td>-2</td>\n",
       "      <td>-2</td>\n",
       "      <td>-2</td>\n",
       "      <td>-2</td>\n",
       "      <td>0.0</td>\n",
       "      <td>0.0</td>\n",
       "      <td>0.0</td>\n",
       "      <td>0.0</td>\n",
       "      <td>0.0</td>\n",
       "      <td>0.0</td>\n",
       "      <td>0.0</td>\n",
       "      <td>0.0</td>\n",
       "      <td>0.0</td>\n",
       "      <td>0.0</td>\n",
       "      <td>0.0</td>\n",
       "      <td>0.0</td>\n",
       "      <td>0</td>\n",
       "      <td>(9490.0, 112000.0]</td>\n",
       "    </tr>\n",
       "    <tr>\n",
       "      <th>...</th>\n",
       "      <td>...</td>\n",
       "      <td>...</td>\n",
       "      <td>...</td>\n",
       "      <td>...</td>\n",
       "      <td>...</td>\n",
       "      <td>...</td>\n",
       "      <td>...</td>\n",
       "      <td>...</td>\n",
       "      <td>...</td>\n",
       "      <td>...</td>\n",
       "      <td>...</td>\n",
       "      <td>...</td>\n",
       "      <td>...</td>\n",
       "      <td>...</td>\n",
       "      <td>...</td>\n",
       "      <td>...</td>\n",
       "      <td>...</td>\n",
       "      <td>...</td>\n",
       "      <td>...</td>\n",
       "      <td>...</td>\n",
       "      <td>...</td>\n",
       "      <td>...</td>\n",
       "      <td>...</td>\n",
       "      <td>...</td>\n",
       "      <td>...</td>\n",
       "    </tr>\n",
       "    <tr>\n",
       "      <th>29811</th>\n",
       "      <td>50000.0</td>\n",
       "      <td>0</td>\n",
       "      <td>5</td>\n",
       "      <td>2</td>\n",
       "      <td>46</td>\n",
       "      <td>0</td>\n",
       "      <td>0</td>\n",
       "      <td>0</td>\n",
       "      <td>-1</td>\n",
       "      <td>0</td>\n",
       "      <td>0</td>\n",
       "      <td>49336.0</td>\n",
       "      <td>49623.0</td>\n",
       "      <td>19900.0</td>\n",
       "      <td>19183.0</td>\n",
       "      <td>19563.0</td>\n",
       "      <td>19157.0</td>\n",
       "      <td>1423.0</td>\n",
       "      <td>1000.0</td>\n",
       "      <td>19183.0</td>\n",
       "      <td>687.0</td>\n",
       "      <td>696.0</td>\n",
       "      <td>776.0</td>\n",
       "      <td>0</td>\n",
       "      <td>(9490.0, 112000.0]</td>\n",
       "    </tr>\n",
       "    <tr>\n",
       "      <th>29836</th>\n",
       "      <td>180000.0</td>\n",
       "      <td>0</td>\n",
       "      <td>6</td>\n",
       "      <td>1</td>\n",
       "      <td>34</td>\n",
       "      <td>-2</td>\n",
       "      <td>-2</td>\n",
       "      <td>-2</td>\n",
       "      <td>-2</td>\n",
       "      <td>-2</td>\n",
       "      <td>-2</td>\n",
       "      <td>0.0</td>\n",
       "      <td>0.0</td>\n",
       "      <td>0.0</td>\n",
       "      <td>0.0</td>\n",
       "      <td>0.0</td>\n",
       "      <td>0.0</td>\n",
       "      <td>0.0</td>\n",
       "      <td>0.0</td>\n",
       "      <td>0.0</td>\n",
       "      <td>0.0</td>\n",
       "      <td>0.0</td>\n",
       "      <td>0.0</td>\n",
       "      <td>0</td>\n",
       "      <td>(112000.0, 214000.0]</td>\n",
       "    </tr>\n",
       "    <tr>\n",
       "      <th>29839</th>\n",
       "      <td>150000.0</td>\n",
       "      <td>0</td>\n",
       "      <td>5</td>\n",
       "      <td>1</td>\n",
       "      <td>36</td>\n",
       "      <td>0</td>\n",
       "      <td>0</td>\n",
       "      <td>0</td>\n",
       "      <td>0</td>\n",
       "      <td>0</td>\n",
       "      <td>0</td>\n",
       "      <td>216482.0</td>\n",
       "      <td>220889.0</td>\n",
       "      <td>133616.0</td>\n",
       "      <td>136378.0</td>\n",
       "      <td>139219.0</td>\n",
       "      <td>142172.0</td>\n",
       "      <td>5500.0</td>\n",
       "      <td>3800.0</td>\n",
       "      <td>3900.0</td>\n",
       "      <td>4000.0</td>\n",
       "      <td>4100.0</td>\n",
       "      <td>4100.0</td>\n",
       "      <td>0</td>\n",
       "      <td>(112000.0, 214000.0]</td>\n",
       "    </tr>\n",
       "    <tr>\n",
       "      <th>29920</th>\n",
       "      <td>50000.0</td>\n",
       "      <td>0</td>\n",
       "      <td>5</td>\n",
       "      <td>1</td>\n",
       "      <td>45</td>\n",
       "      <td>2</td>\n",
       "      <td>0</td>\n",
       "      <td>0</td>\n",
       "      <td>0</td>\n",
       "      <td>0</td>\n",
       "      <td>0</td>\n",
       "      <td>71927.0</td>\n",
       "      <td>73514.0</td>\n",
       "      <td>75373.0</td>\n",
       "      <td>50947.0</td>\n",
       "      <td>51020.0</td>\n",
       "      <td>0.0</td>\n",
       "      <td>3000.0</td>\n",
       "      <td>3428.0</td>\n",
       "      <td>2002.0</td>\n",
       "      <td>1023.0</td>\n",
       "      <td>0.0</td>\n",
       "      <td>0.0</td>\n",
       "      <td>1</td>\n",
       "      <td>(9490.0, 112000.0]</td>\n",
       "    </tr>\n",
       "    <tr>\n",
       "      <th>29966</th>\n",
       "      <td>150000.0</td>\n",
       "      <td>0</td>\n",
       "      <td>5</td>\n",
       "      <td>2</td>\n",
       "      <td>31</td>\n",
       "      <td>2</td>\n",
       "      <td>0</td>\n",
       "      <td>0</td>\n",
       "      <td>0</td>\n",
       "      <td>-2</td>\n",
       "      <td>-2</td>\n",
       "      <td>134866.0</td>\n",
       "      <td>136692.0</td>\n",
       "      <td>91815.0</td>\n",
       "      <td>0.0</td>\n",
       "      <td>0.0</td>\n",
       "      <td>0.0</td>\n",
       "      <td>4633.0</td>\n",
       "      <td>2000.0</td>\n",
       "      <td>0.0</td>\n",
       "      <td>0.0</td>\n",
       "      <td>0.0</td>\n",
       "      <td>0.0</td>\n",
       "      <td>1</td>\n",
       "      <td>(112000.0, 214000.0]</td>\n",
       "    </tr>\n",
       "  </tbody>\n",
       "</table>\n",
       "<p>328 rows × 25 columns</p>\n",
       "</div>"
      ],
      "text/plain": [
       "       LIMIT_BAL  SEX  EDUCATION  MARRIAGE  AGE  PAY_1  PAY_2  PAY_3  PAY_4  \\\n",
       "47      150000.0    1          5         2   46      0      0     -1      0   \n",
       "69       20000.0    0          5         2   22      2      0      0      0   \n",
       "385     410000.0    1          5         1   42      0      0      0      0   \n",
       "502     230000.0    1          6         2   46      0      0      0      0   \n",
       "504      30000.0    0          6         1   53     -2     -2     -2     -2   \n",
       "...          ...  ...        ...       ...  ...    ...    ...    ...    ...   \n",
       "29811    50000.0    0          5         2   46      0      0      0     -1   \n",
       "29836   180000.0    0          6         1   34     -2     -2     -2     -2   \n",
       "29839   150000.0    0          5         1   36      0      0      0      0   \n",
       "29920    50000.0    0          5         1   45      2      0      0      0   \n",
       "29966   150000.0    0          5         2   31      2      0      0      0   \n",
       "\n",
       "       PAY_5  PAY_6  BILL_AMT1  BILL_AMT2  BILL_AMT3  BILL_AMT4  BILL_AMT5  \\\n",
       "47         0     -2     4463.0     3034.0     1170.0     1170.0        0.0   \n",
       "69         0      0    18565.0    17204.0    17285.0    18085.0    11205.0   \n",
       "385        0      0   338106.0   342904.0   344464.0   240865.0   234939.0   \n",
       "502        0      0   221590.0   227397.0   230302.0   186635.0   189896.0   \n",
       "504       -2     -2        0.0        0.0        0.0        0.0        0.0   \n",
       "...      ...    ...        ...        ...        ...        ...        ...   \n",
       "29811      0      0    49336.0    49623.0    19900.0    19183.0    19563.0   \n",
       "29836     -2     -2        0.0        0.0        0.0        0.0        0.0   \n",
       "29839      0      0   216482.0   220889.0   133616.0   136378.0   139219.0   \n",
       "29920      0      0    71927.0    73514.0    75373.0    50947.0    51020.0   \n",
       "29966     -2     -2   134866.0   136692.0    91815.0        0.0        0.0   \n",
       "\n",
       "       BILL_AMT6  PAY_AMT1  PAY_AMT2  PAY_AMT3  PAY_AMT4  PAY_AMT5  PAY_AMT6  \\\n",
       "47           0.0    1013.0    1170.0       0.0       0.0       0.0       0.0   \n",
       "69        5982.0       0.0    1200.0    1000.0     500.0    1000.0       0.0   \n",
       "385     240176.0   15000.0   14000.0    9000.0    8500.0    9000.0    8300.0   \n",
       "502     193351.0   10000.0    9000.0    8000.0    8000.0    7500.0    7000.0   \n",
       "504          0.0       0.0       0.0       0.0       0.0       0.0       0.0   \n",
       "...          ...       ...       ...       ...       ...       ...       ...   \n",
       "29811    19157.0    1423.0    1000.0   19183.0     687.0     696.0     776.0   \n",
       "29836        0.0       0.0       0.0       0.0       0.0       0.0       0.0   \n",
       "29839   142172.0    5500.0    3800.0    3900.0    4000.0    4100.0    4100.0   \n",
       "29920        0.0    3000.0    3428.0    2002.0    1023.0       0.0       0.0   \n",
       "29966        0.0    4633.0    2000.0       0.0       0.0       0.0       0.0   \n",
       "\n",
       "       target Categorical_LIMIT_BAL  \n",
       "47          1  (112000.0, 214000.0]  \n",
       "69          0    (9490.0, 112000.0]  \n",
       "385         0  (316000.0, 418000.0]  \n",
       "502         0  (214000.0, 316000.0]  \n",
       "504         0    (9490.0, 112000.0]  \n",
       "...       ...                   ...  \n",
       "29811       0    (9490.0, 112000.0]  \n",
       "29836       0  (112000.0, 214000.0]  \n",
       "29839       0  (112000.0, 214000.0]  \n",
       "29920       1    (9490.0, 112000.0]  \n",
       "29966       1  (112000.0, 214000.0]  \n",
       "\n",
       "[328 rows x 25 columns]"
      ]
     },
     "execution_count": 17,
     "metadata": {},
     "output_type": "execute_result"
    }
   ],
   "source": [
    "df[(df['EDUCATION'] == 5) | (df['EDUCATION'] ==6)]"
   ]
  },
  {
   "cell_type": "code",
   "execution_count": 18,
   "id": "higher-census",
   "metadata": {
    "colab": {
     "base_uri": "https://localhost:8080/"
    },
    "id": "inner-assessment",
    "outputId": "c7664c1f-059d-4b24-9108-2599b9f35c40"
   },
   "outputs": [
    {
     "name": "stdout",
     "output_type": "stream",
     "text": [
      "% of rows:  0.010994536251801697\n"
     ]
    }
   ],
   "source": [
    "print(\"% of rows: \",df[(df['EDUCATION'] == 5) | (df['EDUCATION'] ==6)].shape[0]/df.shape[0])"
   ]
  },
  {
   "cell_type": "code",
   "execution_count": 19,
   "id": "descending-project",
   "metadata": {
    "colab": {
     "base_uri": "https://localhost:8080/"
    },
    "id": "positive-decade",
    "outputId": "19e3c4c2-aadb-4579-8e6f-524c1793f36d"
   },
   "outputs": [
    {
     "data": {
      "text/plain": [
       "array([2, 1, 3, 4, 0])"
      ]
     },
     "execution_count": 19,
     "metadata": {},
     "output_type": "execute_result"
    }
   ],
   "source": [
    "# we drop values 5 and 6 as they are unknown\n",
    "\n",
    "df = df[(df['EDUCATION'] != 5) & (df['EDUCATION'] !=6)]\n",
    "df['EDUCATION'].unique()"
   ]
  },
  {
   "cell_type": "markdown",
   "id": "greenhouse-thesaurus",
   "metadata": {
    "id": "atmospheric-cigarette"
   },
   "source": [
    "## 5) Marriage"
   ]
  },
  {
   "cell_type": "code",
   "execution_count": 20,
   "id": "relative-apollo",
   "metadata": {
    "colab": {
     "base_uri": "https://localhost:8080/"
    },
    "id": "grave-classics",
    "outputId": "503e0590-579f-4b82-d91d-1e8556a76fb8"
   },
   "outputs": [
    {
     "data": {
      "text/plain": [
       "array([1, 2, 3, 0])"
      ]
     },
     "execution_count": 20,
     "metadata": {},
     "output_type": "execute_result"
    }
   ],
   "source": [
    "# MARRIAGE: Marital status (1=married, 2=single, 3=others)\n",
    "# 0 is an unknown value and is wrong \n",
    "df['MARRIAGE'].unique()"
   ]
  },
  {
   "cell_type": "code",
   "execution_count": 21,
   "id": "brilliant-azerbaijan",
   "metadata": {
    "colab": {
     "base_uri": "https://localhost:8080/"
    },
    "id": "falling-liabilities",
    "outputId": "9cb53ed6-ba69-4f7c-c8e2-3d99914d0c48"
   },
   "outputs": [
    {
     "name": "stdout",
     "output_type": "stream",
     "text": [
      "54\n",
      "% of rows with MARRIAGE =0:  0.0018301982714794102\n"
     ]
    }
   ],
   "source": [
    "# there are ony 54 rows with MARRIAGE == 0\n",
    "# we drop all rows with MARRIAGE = 0\n",
    "\n",
    "print(df[df['MARRIAGE'] ==0].shape[0])\n",
    "print(\"% of rows with MARRIAGE =0: \", df[df['MARRIAGE'] ==0].shape[0]/df.shape[0])\n"
   ]
  },
  {
   "cell_type": "code",
   "execution_count": 22,
   "id": "naked-stuff",
   "metadata": {
    "id": "protective-photography",
    "scrolled": true
   },
   "outputs": [],
   "source": [
    "df = df[~((df['MARRIAGE'] == 0))]"
   ]
  },
  {
   "cell_type": "code",
   "execution_count": 23,
   "id": "protecting-magic",
   "metadata": {
    "id": "christian-compiler"
   },
   "outputs": [],
   "source": [
    "#type(marriage_mode[0])"
   ]
  },
  {
   "cell_type": "markdown",
   "id": "signal-announcement",
   "metadata": {
    "id": "opening-surface"
   },
   "source": [
    "## 6) Age "
   ]
  },
  {
   "cell_type": "code",
   "execution_count": 24,
   "id": "floral-interface",
   "metadata": {
    "colab": {
     "base_uri": "https://localhost:8080/"
    },
    "id": "played-bankruptcy",
    "outputId": "b8f3a129-29f2-4011-a3ca-b8d2c023a3d2"
   },
   "outputs": [
    {
     "name": "stdout",
     "output_type": "stream",
     "text": [
      "79\n",
      "21\n"
     ]
    }
   ],
   "source": [
    "print(df['AGE'].max())\n",
    "print(df['AGE'].min())"
   ]
  },
  {
   "cell_type": "code",
   "execution_count": 25,
   "id": "interim-heaven",
   "metadata": {
    "colab": {
     "base_uri": "https://localhost:8080/",
     "height": 0
    },
    "id": "continuous-recommendation",
    "outputId": "cfd8d7fe-8b24-45c7-8321-a6fa62effb5e"
   },
   "outputs": [
    {
     "name": "stderr",
     "output_type": "stream",
     "text": [
      "/usr/local/lib/python3.7/dist-packages/seaborn/_decorators.py:43: FutureWarning: Pass the following variable as a keyword arg: x. From version 0.12, the only valid positional argument will be `data`, and passing other arguments without an explicit keyword will result in an error or misinterpretation.\n",
      "  FutureWarning\n"
     ]
    },
    {
     "data": {
      "text/plain": [
       "<matplotlib.axes._subplots.AxesSubplot at 0x7f9329e5ce50>"
      ]
     },
     "execution_count": 25,
     "metadata": {},
     "output_type": "execute_result"
    },
    {
     "data": {
      "image/png": "[encoded data removed]",
      "text/plain": [
       "<Figure size 432x288 with 1 Axes>"
      ]
     },
     "metadata": {
      "needs_background": "light"
     },
     "output_type": "display_data"
    }
   ],
   "source": [
    "# check for outliers in AGE \n",
    "sns.boxplot(df['AGE'])"
   ]
  },
  {
   "cell_type": "code",
   "execution_count": 26,
   "id": "reasonable-blake",
   "metadata": {
    "colab": {
     "base_uri": "https://localhost:8080/"
    },
    "id": "british-canal",
    "outputId": "d17a78db-9395-401a-e172-25f898d95322"
   },
   "outputs": [
    {
     "name": "stdout",
     "output_type": "stream",
     "text": [
      "13.0\n",
      "number of outliers in AGE:266\n",
      "outliers form : 0.9031951376863264 % of total rows\n"
     ]
    }
   ],
   "source": [
    "q1 = df['AGE'].quantile(0.25)\n",
    "q3 = df['AGE'].quantile(0.75)\n",
    "\n",
    "iqr = q3 -q1\n",
    "print(iqr)\n",
    "lower_fence = q1 - 1.5 * iqr\n",
    "upper_fence = q3 + 1.5 * iqr\n",
    "\n",
    "df2 = df[((df['AGE']<lower_fence)|(df['AGE']>upper_fence))]\n",
    "print(\"number of outliers in AGE:\" + str(df2.shape[0]))\n",
    "print(\"outliers form :\", (df2.shape[0]/df.shape[0])*100 , \"% of total rows\")"
   ]
  },
  {
   "cell_type": "code",
   "execution_count": 27,
   "id": "present-radar",
   "metadata": {
    "id": "classified-outreach"
   },
   "outputs": [],
   "source": [
    "# number of outluers form less than 1% of total rows, therefore we drop the rows with outliers for LIMIT_BAL\n",
    "       \n",
    "df = df[~((df['AGE']<lower_fence)|(df['AGE']>upper_fence))]"
   ]
  },
  {
   "cell_type": "code",
   "execution_count": 28,
   "id": "muslim-scheduling",
   "metadata": {
    "colab": {
     "base_uri": "https://localhost:8080/",
     "height": 0
    },
    "id": "sufficient-thanksgiving",
    "outputId": "37319caa-02f0-4c7f-e45a-b3dd5084a6b1"
   },
   "outputs": [
    {
     "name": "stderr",
     "output_type": "stream",
     "text": [
      "/usr/local/lib/python3.7/dist-packages/seaborn/_decorators.py:43: FutureWarning: Pass the following variable as a keyword arg: x. From version 0.12, the only valid positional argument will be `data`, and passing other arguments without an explicit keyword will result in an error or misinterpretation.\n",
      "  FutureWarning\n"
     ]
    },
    {
     "data": {
      "text/plain": [
       "<matplotlib.axes._subplots.AxesSubplot at 0x7f9328d551d0>"
      ]
     },
     "execution_count": 28,
     "metadata": {},
     "output_type": "execute_result"
    },
    {
     "data": {
      "image/png": "[encoded data removed]",
      "text/plain": [
       "<Figure size 432x288 with 1 Axes>"
      ]
     },
     "metadata": {
      "needs_background": "light"
     },
     "output_type": "display_data"
    }
   ],
   "source": [
    "# check for outliers again\n",
    "# we see that no more outliers are left \n",
    "\n",
    "sns.boxplot(df['AGE'])"
   ]
  },
  {
   "cell_type": "code",
   "execution_count": 29,
   "id": "senior-imperial",
   "metadata": {
    "colab": {
     "base_uri": "https://localhost:8080/"
    },
    "id": "recovered-width",
    "outputId": "f59315f3-9634-43fe-f34b-a6f5e6dc15e9"
   },
   "outputs": [
    {
     "data": {
      "text/plain": [
       "0        (20.961, 28.8]\n",
       "1        (20.961, 28.8]\n",
       "2          (28.8, 36.6]\n",
       "3          (36.6, 44.4]\n",
       "4          (52.2, 60.0]\n",
       "              ...      \n",
       "29995      (36.6, 44.4]\n",
       "29996      (36.6, 44.4]\n",
       "29997      (36.6, 44.4]\n",
       "29998      (36.6, 44.4]\n",
       "29999      (44.4, 52.2]\n",
       "Name: Categorical_Age, Length: 29185, dtype: category\n",
       "Categories (5, interval[float64]): [(20.961, 28.8] < (28.8, 36.6] < (36.6, 44.4] < (44.4, 52.2] <\n",
       "                                    (52.2, 60.0]]"
      ]
     },
     "execution_count": 29,
     "metadata": {},
     "output_type": "execute_result"
    }
   ],
   "source": [
    "# create a column that has the category for each of the AGE value\n",
    "\n",
    "df['Categorical_Age'] = pd.cut(df['AGE'],5)\n",
    "df['Categorical_Age']"
   ]
  },
  {
   "cell_type": "markdown",
   "id": "latin-cross",
   "metadata": {
    "id": "ideal-parts"
   },
   "source": [
    "## 7) All the pay columns"
   ]
  },
  {
   "cell_type": "code",
   "execution_count": 30,
   "id": "synthetic-progressive",
   "metadata": {
    "id": "italic-reserve"
   },
   "outputs": [],
   "source": [
    "# -1=pay duly, 1=payment delay for one month, 2=payment delay for two months,\n",
    "# … 8=payment delay for eight months, 9=payment delay for nine months and above\n",
    "# 0 is a wrong value entered, we drop columns with 0\n",
    "# -2 is a wrong value entered, we drop columns with -2\n",
    "# we change -1 to 0 for duly paid"
   ]
  },
  {
   "cell_type": "code",
   "execution_count": 31,
   "id": "assumed-relationship",
   "metadata": {
    "id": "ranking-procedure"
   },
   "outputs": [],
   "source": [
    "df = df[~((df['PAY_1'] == 0))]\n",
    "df = df[~((df['PAY_2'] == 0))]\n",
    "df = df[~((df['PAY_3'] == 0))]\n",
    "df = df[~((df['PAY_4'] == 0))]\n",
    "df = df[~((df['PAY_5'] == 0))]\n",
    "df = df[~((df['PAY_6'] == 0))]"
   ]
  },
  {
   "cell_type": "code",
   "execution_count": 32,
   "id": "fiscal-petersburg",
   "metadata": {
    "id": "pursuant-member"
   },
   "outputs": [],
   "source": [
    "df = df[~((df['PAY_1'] == -2))]\n",
    "df = df[~((df['PAY_2'] == -2))]\n",
    "df = df[~((df['PAY_3'] == -2))]\n",
    "df = df[~((df['PAY_4'] == -2))]\n",
    "df = df[~((df['PAY_5'] == -2))]\n",
    "df = df[~((df['PAY_6'] == -2))]\n"
   ]
  },
  {
   "cell_type": "code",
   "execution_count": 33,
   "id": "hindu-landscape",
   "metadata": {
    "id": "amino-masters"
   },
   "outputs": [],
   "source": [
    "for i, data in df.iterrows():\n",
    "    if data['PAY_1'] == -1:\n",
    "        df.at[i,'PAY_1'] = 0\n",
    "\n",
    "    \n",
    "    if data['PAY_2'] == -1:\n",
    "        df.at[i,'PAY_2'] = 0\n",
    "\n",
    "    \n",
    "    if data['PAY_3'] == -1:\n",
    "        df.at[i,'PAY_3'] = 0\n",
    "\n",
    "    \n",
    "    if data['PAY_4'] == -1:\n",
    "        df.at[i,'PAY_4'] = 0\n",
    "\n",
    "\n",
    "    if data['PAY_5'] == -1:\n",
    "        df.at[i,'PAY_5'] = 0\n",
    "\n",
    "\n",
    "    if data['PAY_6'] == -1:\n",
    "        df.at[i,'PAY_6'] = 0\n"
   ]
  },
  {
   "cell_type": "code",
   "execution_count": 34,
   "id": "distant-armenia",
   "metadata": {
    "colab": {
     "base_uri": "https://localhost:8080/"
    },
    "id": "twenty-minimum",
    "outputId": "ca0b427f-f997-4177-b65e-b7e352ce8567"
   },
   "outputs": [
    {
     "data": {
      "text/plain": [
       "array([0, 2, 1, 3, 8, 4, 7, 5, 6])"
      ]
     },
     "execution_count": 34,
     "metadata": {},
     "output_type": "execute_result"
    }
   ],
   "source": [
    "df['PAY_1'].unique()"
   ]
  },
  {
   "cell_type": "code",
   "execution_count": 35,
   "id": "different-cedar",
   "metadata": {
    "colab": {
     "base_uri": "https://localhost:8080/"
    },
    "id": "alleged-boating",
    "outputId": "e2a71452-069e-485a-9bac-df4da9b5e494"
   },
   "outputs": [
    {
     "data": {
      "text/plain": [
       "(3986, 26)"
      ]
     },
     "execution_count": 35,
     "metadata": {},
     "output_type": "execute_result"
    }
   ],
   "source": [
    "df.shape"
   ]
  },
  {
   "cell_type": "markdown",
   "id": "structured-shade",
   "metadata": {
    "id": "muslim-growth"
   },
   "source": [
    "## 8) all the BILL_AMT and PAY_AMT columns"
   ]
  },
  {
   "cell_type": "code",
   "execution_count": 36,
   "id": "middle-firewall",
   "metadata": {
    "id": "interpreted-exhibit"
   },
   "outputs": [],
   "source": [
    "# The BILL_AMT columns have negative values, we convert them to positive as bill can't be negative\n",
    "\n",
    "df['BILL_AMT1']=abs(df['BILL_AMT1'])\n",
    "df['BILL_AMT2']=abs(df['BILL_AMT2'])\n",
    "df['BILL_AMT3']=abs(df['BILL_AMT3'])\n",
    "df['BILL_AMT4']=abs(df['BILL_AMT4'])\n",
    "df['BILL_AMT5']=abs(df['BILL_AMT5'])\n",
    "df['BILL_AMT6']=abs(df['BILL_AMT6'])"
   ]
  },
  {
   "cell_type": "markdown",
   "id": "stuffed-cooler",
   "metadata": {},
   "source": [
    "# 4) EDA:<BR>\n",
    "    \n",
    " <a href = \"https://public.tableau.com/app/profile/joshua.miranda/viz/CreditCardDefaulterEDA/AgevsDefault?publish=yes\">\n",
    "     Click here to go to EDA done in Tableau! </a>"
   ]
  },
  {
   "cell_type": "markdown",
   "id": "ancient-rider",
   "metadata": {
    "id": "hairy-nelson"
   },
   "source": [
    "# 5) Normalising BILL_AMT and PAY_AMT columns"
   ]
  },
  {
   "cell_type": "code",
   "execution_count": 37,
   "id": "sexual-expense",
   "metadata": {
    "id": "equipped-customer"
   },
   "outputs": [],
   "source": [
    "# we normalise all the BILL_AMT and PAY_AMT columns\n",
    "\n",
    "df['BILL_AMT1'] = (df['BILL_AMT1'] - df['BILL_AMT1'].min())/(df['BILL_AMT1'].max() - df['BILL_AMT1'].min())\n",
    "df['BILL_AMT2'] = (df['BILL_AMT2'] - df['BILL_AMT2'].min())/(df['BILL_AMT2'].max() - df['BILL_AMT2'].min())\n",
    "df['BILL_AMT3'] = (df['BILL_AMT3'] - df['BILL_AMT3'].min())/(df['BILL_AMT3'].max() - df['BILL_AMT3'].min())\n",
    "df['BILL_AMT4'] = (df['BILL_AMT4'] - df['BILL_AMT4'].min())/(df['BILL_AMT4'].max() - df['BILL_AMT4'].min())\n",
    "df['BILL_AMT5'] = (df['BILL_AMT5'] - df['BILL_AMT5'].min())/(df['BILL_AMT5'].max() - df['BILL_AMT5'].min())\n",
    "df['BILL_AMT6'] = (df['BILL_AMT6'] - df['BILL_AMT6'].min())/(df['BILL_AMT6'].max() - df['BILL_AMT6'].min())\n",
    "\n",
    "\n"
   ]
  },
  {
   "cell_type": "code",
   "execution_count": 38,
   "id": "fossil-calgary",
   "metadata": {
    "id": "lyric-crawford"
   },
   "outputs": [],
   "source": [
    "df['PAY_AMT1'] = (df['PAY_AMT1'] - df['PAY_AMT1'].min())/(df['PAY_AMT1'].max() - df['PAY_AMT1'].min())\n",
    "df['PAY_AMT2'] = (df['PAY_AMT2'] - df['PAY_AMT2'].min())/(df['PAY_AMT2'].max() - df['PAY_AMT2'].min())\n",
    "df['PAY_AMT3'] = (df['PAY_AMT3'] - df['PAY_AMT3'].min())/(df['PAY_AMT3'].max() - df['PAY_AMT3'].min())\n",
    "df['PAY_AMT4'] = (df['PAY_AMT4'] - df['PAY_AMT4'].min())/(df['PAY_AMT4'].max() - df['PAY_AMT4'].min())\n",
    "df['PAY_AMT5'] = (df['PAY_AMT5'] - df['PAY_AMT5'].min())/(df['PAY_AMT5'].max() - df['PAY_AMT5'].min())\n",
    "df['PAY_AMT6'] = (df['PAY_AMT6'] - df['PAY_AMT6'].min())/(df['PAY_AMT6'].max() - df['PAY_AMT6'].min())"
   ]
  },
  {
   "cell_type": "code",
   "execution_count": 39,
   "id": "silent-authentication",
   "metadata": {
    "id": "awful-matter"
   },
   "outputs": [],
   "source": [
    "# We also create five categories each for all the BILL_AMT and PAY_AMT columns\n",
    "\n",
    "df['Categorical_BILL_AMT1']=pd.cut(df['BILL_AMT1'],5)\n",
    "df['Categorical_BILL_AMT2']=pd.cut(df['BILL_AMT2'],5)\n",
    "df['Categorical_BILL_AMT3']=pd.cut(df['BILL_AMT3'],5)\n",
    "df['Categorical_BILL_AMT4']=pd.cut(df['BILL_AMT4'],5)\n",
    "df['Categorical_BILL_AMT5']=pd.cut(df['BILL_AMT5'],5)\n",
    "df['Categorical_BILL_AMT6']=pd.cut(df['BILL_AMT6'],5)\n"
   ]
  },
  {
   "cell_type": "code",
   "execution_count": 40,
   "id": "fourth-halifax",
   "metadata": {
    "id": "accessible-lambda"
   },
   "outputs": [],
   "source": [
    "df['Categorical_PAY_AMT1']=pd.cut(df['PAY_AMT1'],5)\n",
    "df['Categorical_PAY_AMT2']=pd.cut(df['PAY_AMT2'],5)\n",
    "df['Categorical_PAY_AMT3']=pd.cut(df['PAY_AMT3'],5)\n",
    "df['Categorical_PAY_AMT4']=pd.cut(df['PAY_AMT4'],5)\n",
    "df['Categorical_PAY_AMT5']=pd.cut(df['PAY_AMT5'],5)\n",
    "df['Categorical_PAY_AMT6']=pd.cut(df['PAY_AMT6'],5)"
   ]
  },
  {
   "cell_type": "markdown",
   "id": "temporal-allowance",
   "metadata": {
    "id": "distinct-ecology"
   },
   "source": [
    "# 6) Encoding:"
   ]
  },
  {
   "cell_type": "code",
   "execution_count": 41,
   "id": "senior-leader",
   "metadata": {
    "colab": {
     "base_uri": "https://localhost:8080/",
     "height": 439
    },
    "id": "indie-capability",
    "outputId": "02e9244a-e665-485d-9bee-7b43f151b931"
   },
   "outputs": [
    {
     "data": {
      "text/html": [
       "<div>\n",
       "<style scoped>\n",
       "    .dataframe tbody tr th:only-of-type {\n",
       "        vertical-align: middle;\n",
       "    }\n",
       "\n",
       "    .dataframe tbody tr th {\n",
       "        vertical-align: top;\n",
       "    }\n",
       "\n",
       "    .dataframe thead th {\n",
       "        text-align: right;\n",
       "    }\n",
       "</style>\n",
       "<table border=\"1\" class=\"dataframe\">\n",
       "  <thead>\n",
       "    <tr style=\"text-align: right;\">\n",
       "      <th></th>\n",
       "      <th>LIMIT_BAL</th>\n",
       "      <th>SEX</th>\n",
       "      <th>EDUCATION</th>\n",
       "      <th>MARRIAGE</th>\n",
       "      <th>AGE</th>\n",
       "      <th>PAY_1</th>\n",
       "      <th>PAY_2</th>\n",
       "      <th>PAY_3</th>\n",
       "      <th>PAY_4</th>\n",
       "      <th>PAY_5</th>\n",
       "      <th>PAY_6</th>\n",
       "      <th>BILL_AMT1</th>\n",
       "      <th>BILL_AMT2</th>\n",
       "      <th>BILL_AMT3</th>\n",
       "      <th>BILL_AMT4</th>\n",
       "      <th>BILL_AMT5</th>\n",
       "      <th>BILL_AMT6</th>\n",
       "      <th>PAY_AMT1</th>\n",
       "      <th>PAY_AMT2</th>\n",
       "      <th>PAY_AMT3</th>\n",
       "      <th>PAY_AMT4</th>\n",
       "      <th>PAY_AMT5</th>\n",
       "      <th>PAY_AMT6</th>\n",
       "      <th>target</th>\n",
       "      <th>Categorical_LIMIT_BAL</th>\n",
       "      <th>Categorical_Age</th>\n",
       "      <th>Categorical_BILL_AMT1</th>\n",
       "      <th>Categorical_BILL_AMT2</th>\n",
       "      <th>Categorical_BILL_AMT3</th>\n",
       "      <th>Categorical_BILL_AMT4</th>\n",
       "      <th>Categorical_BILL_AMT5</th>\n",
       "      <th>Categorical_BILL_AMT6</th>\n",
       "      <th>Categorical_PAY_AMT1</th>\n",
       "      <th>Categorical_PAY_AMT2</th>\n",
       "      <th>Categorical_PAY_AMT3</th>\n",
       "      <th>Categorical_PAY_AMT4</th>\n",
       "      <th>Categorical_PAY_AMT5</th>\n",
       "      <th>Categorical_PAY_AMT6</th>\n",
       "    </tr>\n",
       "  </thead>\n",
       "  <tbody>\n",
       "    <tr>\n",
       "      <th>11</th>\n",
       "      <td>260000.0</td>\n",
       "      <td>1</td>\n",
       "      <td>1</td>\n",
       "      <td>2</td>\n",
       "      <td>51</td>\n",
       "      <td>0</td>\n",
       "      <td>0</td>\n",
       "      <td>0</td>\n",
       "      <td>0</td>\n",
       "      <td>0</td>\n",
       "      <td>2</td>\n",
       "      <td>0.021075</td>\n",
       "      <td>0.037840</td>\n",
       "      <td>0.021599</td>\n",
       "      <td>0.018826</td>\n",
       "      <td>0.050235</td>\n",
       "      <td>0.031255</td>\n",
       "      <td>0.116545</td>\n",
       "      <td>0.032895</td>\n",
       "      <td>0.020554</td>\n",
       "      <td>0.115125</td>\n",
       "      <td>0.000000</td>\n",
       "      <td>0.010542</td>\n",
       "      <td>0</td>\n",
       "      <td>(214000.0, 316000.0]</td>\n",
       "      <td>(44.4, 52.2]</td>\n",
       "      <td>(-0.001, 0.2]</td>\n",
       "      <td>(-0.001, 0.2]</td>\n",
       "      <td>(-0.001, 0.2]</td>\n",
       "      <td>(-0.001, 0.2]</td>\n",
       "      <td>(-0.001, 0.2]</td>\n",
       "      <td>(-0.001, 0.2]</td>\n",
       "      <td>(-0.001, 0.2]</td>\n",
       "      <td>(-0.001, 0.2]</td>\n",
       "      <td>(-0.001, 0.2]</td>\n",
       "      <td>(-0.001, 0.2]</td>\n",
       "      <td>(-0.001, 0.2]</td>\n",
       "      <td>(-0.001, 0.2]</td>\n",
       "    </tr>\n",
       "    <tr>\n",
       "      <th>21</th>\n",
       "      <td>120000.0</td>\n",
       "      <td>1</td>\n",
       "      <td>2</td>\n",
       "      <td>1</td>\n",
       "      <td>39</td>\n",
       "      <td>0</td>\n",
       "      <td>0</td>\n",
       "      <td>0</td>\n",
       "      <td>0</td>\n",
       "      <td>0</td>\n",
       "      <td>0</td>\n",
       "      <td>0.000543</td>\n",
       "      <td>0.000552</td>\n",
       "      <td>0.000685</td>\n",
       "      <td>0.000000</td>\n",
       "      <td>0.001425</td>\n",
       "      <td>0.000723</td>\n",
       "      <td>0.001688</td>\n",
       "      <td>0.001043</td>\n",
       "      <td>0.000000</td>\n",
       "      <td>0.003263</td>\n",
       "      <td>0.001044</td>\n",
       "      <td>0.000000</td>\n",
       "      <td>1</td>\n",
       "      <td>(112000.0, 214000.0]</td>\n",
       "      <td>(36.6, 44.4]</td>\n",
       "      <td>(-0.001, 0.2]</td>\n",
       "      <td>(-0.001, 0.2]</td>\n",
       "      <td>(-0.001, 0.2]</td>\n",
       "      <td>(-0.001, 0.2]</td>\n",
       "      <td>(-0.001, 0.2]</td>\n",
       "      <td>(-0.001, 0.2]</td>\n",
       "      <td>(-0.001, 0.2]</td>\n",
       "      <td>(-0.001, 0.2]</td>\n",
       "      <td>(-0.001, 0.2]</td>\n",
       "      <td>(-0.001, 0.2]</td>\n",
       "      <td>(-0.001, 0.2]</td>\n",
       "      <td>(-0.001, 0.2]</td>\n",
       "    </tr>\n",
       "    <tr>\n",
       "      <th>28</th>\n",
       "      <td>50000.0</td>\n",
       "      <td>1</td>\n",
       "      <td>3</td>\n",
       "      <td>1</td>\n",
       "      <td>47</td>\n",
       "      <td>0</td>\n",
       "      <td>0</td>\n",
       "      <td>0</td>\n",
       "      <td>0</td>\n",
       "      <td>0</td>\n",
       "      <td>0</td>\n",
       "      <td>0.001117</td>\n",
       "      <td>0.005963</td>\n",
       "      <td>0.007404</td>\n",
       "      <td>0.004509</td>\n",
       "      <td>0.068589</td>\n",
       "      <td>0.000588</td>\n",
       "      <td>0.018242</td>\n",
       "      <td>0.011292</td>\n",
       "      <td>0.004895</td>\n",
       "      <td>0.157089</td>\n",
       "      <td>0.000849</td>\n",
       "      <td>0.000000</td>\n",
       "      <td>0</td>\n",
       "      <td>(9490.0, 112000.0]</td>\n",
       "      <td>(44.4, 52.2]</td>\n",
       "      <td>(-0.001, 0.2]</td>\n",
       "      <td>(-0.001, 0.2]</td>\n",
       "      <td>(-0.001, 0.2]</td>\n",
       "      <td>(-0.001, 0.2]</td>\n",
       "      <td>(-0.001, 0.2]</td>\n",
       "      <td>(-0.001, 0.2]</td>\n",
       "      <td>(-0.001, 0.2]</td>\n",
       "      <td>(-0.001, 0.2]</td>\n",
       "      <td>(-0.001, 0.2]</td>\n",
       "      <td>(-0.001, 0.2]</td>\n",
       "      <td>(-0.001, 0.2]</td>\n",
       "      <td>(-0.001, 0.2]</td>\n",
       "    </tr>\n",
       "    <tr>\n",
       "      <th>30</th>\n",
       "      <td>230000.0</td>\n",
       "      <td>1</td>\n",
       "      <td>1</td>\n",
       "      <td>2</td>\n",
       "      <td>27</td>\n",
       "      <td>0</td>\n",
       "      <td>0</td>\n",
       "      <td>0</td>\n",
       "      <td>0</td>\n",
       "      <td>0</td>\n",
       "      <td>0</td>\n",
       "      <td>0.028612</td>\n",
       "      <td>0.030148</td>\n",
       "      <td>0.028752</td>\n",
       "      <td>0.033905</td>\n",
       "      <td>0.032248</td>\n",
       "      <td>0.084433</td>\n",
       "      <td>0.092251</td>\n",
       "      <td>0.043837</td>\n",
       "      <td>0.036732</td>\n",
       "      <td>0.073857</td>\n",
       "      <td>0.123148</td>\n",
       "      <td>0.000000</td>\n",
       "      <td>0</td>\n",
       "      <td>(214000.0, 316000.0]</td>\n",
       "      <td>(20.961, 28.8]</td>\n",
       "      <td>(-0.001, 0.2]</td>\n",
       "      <td>(-0.001, 0.2]</td>\n",
       "      <td>(-0.001, 0.2]</td>\n",
       "      <td>(-0.001, 0.2]</td>\n",
       "      <td>(-0.001, 0.2]</td>\n",
       "      <td>(-0.001, 0.2]</td>\n",
       "      <td>(-0.001, 0.2]</td>\n",
       "      <td>(-0.001, 0.2]</td>\n",
       "      <td>(-0.001, 0.2]</td>\n",
       "      <td>(-0.001, 0.2]</td>\n",
       "      <td>(-0.001, 0.2]</td>\n",
       "      <td>(-0.001, 0.2]</td>\n",
       "    </tr>\n",
       "    <tr>\n",
       "      <th>48</th>\n",
       "      <td>380000.0</td>\n",
       "      <td>0</td>\n",
       "      <td>2</td>\n",
       "      <td>2</td>\n",
       "      <td>32</td>\n",
       "      <td>0</td>\n",
       "      <td>0</td>\n",
       "      <td>0</td>\n",
       "      <td>0</td>\n",
       "      <td>0</td>\n",
       "      <td>0</td>\n",
       "      <td>0.038505</td>\n",
       "      <td>0.037613</td>\n",
       "      <td>0.032800</td>\n",
       "      <td>0.070773</td>\n",
       "      <td>0.026708</td>\n",
       "      <td>0.027150</td>\n",
       "      <td>0.115060</td>\n",
       "      <td>0.049967</td>\n",
       "      <td>0.059094</td>\n",
       "      <td>0.061178</td>\n",
       "      <td>0.039214</td>\n",
       "      <td>0.023896</td>\n",
       "      <td>0</td>\n",
       "      <td>(316000.0, 418000.0]</td>\n",
       "      <td>(28.8, 36.6]</td>\n",
       "      <td>(-0.001, 0.2]</td>\n",
       "      <td>(-0.001, 0.2]</td>\n",
       "      <td>(-0.001, 0.2]</td>\n",
       "      <td>(-0.001, 0.2]</td>\n",
       "      <td>(-0.001, 0.2]</td>\n",
       "      <td>(-0.001, 0.2]</td>\n",
       "      <td>(-0.001, 0.2]</td>\n",
       "      <td>(-0.001, 0.2]</td>\n",
       "      <td>(-0.001, 0.2]</td>\n",
       "      <td>(-0.001, 0.2]</td>\n",
       "      <td>(-0.001, 0.2]</td>\n",
       "      <td>(-0.001, 0.2]</td>\n",
       "    </tr>\n",
       "    <tr>\n",
       "      <th>...</th>\n",
       "      <td>...</td>\n",
       "      <td>...</td>\n",
       "      <td>...</td>\n",
       "      <td>...</td>\n",
       "      <td>...</td>\n",
       "      <td>...</td>\n",
       "      <td>...</td>\n",
       "      <td>...</td>\n",
       "      <td>...</td>\n",
       "      <td>...</td>\n",
       "      <td>...</td>\n",
       "      <td>...</td>\n",
       "      <td>...</td>\n",
       "      <td>...</td>\n",
       "      <td>...</td>\n",
       "      <td>...</td>\n",
       "      <td>...</td>\n",
       "      <td>...</td>\n",
       "      <td>...</td>\n",
       "      <td>...</td>\n",
       "      <td>...</td>\n",
       "      <td>...</td>\n",
       "      <td>...</td>\n",
       "      <td>...</td>\n",
       "      <td>...</td>\n",
       "      <td>...</td>\n",
       "      <td>...</td>\n",
       "      <td>...</td>\n",
       "      <td>...</td>\n",
       "      <td>...</td>\n",
       "      <td>...</td>\n",
       "      <td>...</td>\n",
       "      <td>...</td>\n",
       "      <td>...</td>\n",
       "      <td>...</td>\n",
       "      <td>...</td>\n",
       "      <td>...</td>\n",
       "      <td>...</td>\n",
       "    </tr>\n",
       "    <tr>\n",
       "      <th>29934</th>\n",
       "      <td>360000.0</td>\n",
       "      <td>0</td>\n",
       "      <td>2</td>\n",
       "      <td>1</td>\n",
       "      <td>45</td>\n",
       "      <td>0</td>\n",
       "      <td>0</td>\n",
       "      <td>0</td>\n",
       "      <td>0</td>\n",
       "      <td>0</td>\n",
       "      <td>0</td>\n",
       "      <td>0.031889</td>\n",
       "      <td>0.001460</td>\n",
       "      <td>0.001812</td>\n",
       "      <td>0.001848</td>\n",
       "      <td>0.002222</td>\n",
       "      <td>0.002255</td>\n",
       "      <td>0.004466</td>\n",
       "      <td>0.002759</td>\n",
       "      <td>0.002002</td>\n",
       "      <td>0.005090</td>\n",
       "      <td>0.003256</td>\n",
       "      <td>0.001770</td>\n",
       "      <td>0</td>\n",
       "      <td>(316000.0, 418000.0]</td>\n",
       "      <td>(44.4, 52.2]</td>\n",
       "      <td>(-0.001, 0.2]</td>\n",
       "      <td>(-0.001, 0.2]</td>\n",
       "      <td>(-0.001, 0.2]</td>\n",
       "      <td>(-0.001, 0.2]</td>\n",
       "      <td>(-0.001, 0.2]</td>\n",
       "      <td>(-0.001, 0.2]</td>\n",
       "      <td>(-0.001, 0.2]</td>\n",
       "      <td>(-0.001, 0.2]</td>\n",
       "      <td>(-0.001, 0.2]</td>\n",
       "      <td>(-0.001, 0.2]</td>\n",
       "      <td>(-0.001, 0.2]</td>\n",
       "      <td>(-0.001, 0.2]</td>\n",
       "    </tr>\n",
       "    <tr>\n",
       "      <th>29942</th>\n",
       "      <td>130000.0</td>\n",
       "      <td>0</td>\n",
       "      <td>3</td>\n",
       "      <td>1</td>\n",
       "      <td>45</td>\n",
       "      <td>0</td>\n",
       "      <td>0</td>\n",
       "      <td>0</td>\n",
       "      <td>0</td>\n",
       "      <td>0</td>\n",
       "      <td>0</td>\n",
       "      <td>0.002535</td>\n",
       "      <td>0.003189</td>\n",
       "      <td>0.006136</td>\n",
       "      <td>0.006092</td>\n",
       "      <td>0.003573</td>\n",
       "      <td>0.002778</td>\n",
       "      <td>0.009754</td>\n",
       "      <td>0.009344</td>\n",
       "      <td>0.006600</td>\n",
       "      <td>0.008182</td>\n",
       "      <td>0.004012</td>\n",
       "      <td>0.006956</td>\n",
       "      <td>1</td>\n",
       "      <td>(112000.0, 214000.0]</td>\n",
       "      <td>(44.4, 52.2]</td>\n",
       "      <td>(-0.001, 0.2]</td>\n",
       "      <td>(-0.001, 0.2]</td>\n",
       "      <td>(-0.001, 0.2]</td>\n",
       "      <td>(-0.001, 0.2]</td>\n",
       "      <td>(-0.001, 0.2]</td>\n",
       "      <td>(-0.001, 0.2]</td>\n",
       "      <td>(-0.001, 0.2]</td>\n",
       "      <td>(-0.001, 0.2]</td>\n",
       "      <td>(-0.001, 0.2]</td>\n",
       "      <td>(-0.001, 0.2]</td>\n",
       "      <td>(-0.001, 0.2]</td>\n",
       "      <td>(-0.001, 0.2]</td>\n",
       "    </tr>\n",
       "    <tr>\n",
       "      <th>29976</th>\n",
       "      <td>40000.0</td>\n",
       "      <td>0</td>\n",
       "      <td>2</td>\n",
       "      <td>2</td>\n",
       "      <td>47</td>\n",
       "      <td>2</td>\n",
       "      <td>2</td>\n",
       "      <td>3</td>\n",
       "      <td>2</td>\n",
       "      <td>2</td>\n",
       "      <td>2</td>\n",
       "      <td>0.089997</td>\n",
       "      <td>0.095852</td>\n",
       "      <td>0.115767</td>\n",
       "      <td>0.113303</td>\n",
       "      <td>0.106278</td>\n",
       "      <td>0.107326</td>\n",
       "      <td>0.021367</td>\n",
       "      <td>0.000000</td>\n",
       "      <td>0.004789</td>\n",
       "      <td>0.000000</td>\n",
       "      <td>0.011624</td>\n",
       "      <td>0.000000</td>\n",
       "      <td>1</td>\n",
       "      <td>(9490.0, 112000.0]</td>\n",
       "      <td>(44.4, 52.2]</td>\n",
       "      <td>(-0.001, 0.2]</td>\n",
       "      <td>(-0.001, 0.2]</td>\n",
       "      <td>(-0.001, 0.2]</td>\n",
       "      <td>(-0.001, 0.2]</td>\n",
       "      <td>(-0.001, 0.2]</td>\n",
       "      <td>(-0.001, 0.2]</td>\n",
       "      <td>(-0.001, 0.2]</td>\n",
       "      <td>(-0.001, 0.2]</td>\n",
       "      <td>(-0.001, 0.2]</td>\n",
       "      <td>(-0.001, 0.2]</td>\n",
       "      <td>(-0.001, 0.2]</td>\n",
       "      <td>(-0.001, 0.2]</td>\n",
       "    </tr>\n",
       "    <tr>\n",
       "      <th>29991</th>\n",
       "      <td>210000.0</td>\n",
       "      <td>0</td>\n",
       "      <td>2</td>\n",
       "      <td>1</td>\n",
       "      <td>34</td>\n",
       "      <td>3</td>\n",
       "      <td>2</td>\n",
       "      <td>2</td>\n",
       "      <td>2</td>\n",
       "      <td>2</td>\n",
       "      <td>2</td>\n",
       "      <td>0.004297</td>\n",
       "      <td>0.004365</td>\n",
       "      <td>0.005418</td>\n",
       "      <td>0.005526</td>\n",
       "      <td>0.005635</td>\n",
       "      <td>0.005717</td>\n",
       "      <td>0.000000</td>\n",
       "      <td>0.000000</td>\n",
       "      <td>0.000000</td>\n",
       "      <td>0.000000</td>\n",
       "      <td>0.000000</td>\n",
       "      <td>0.000000</td>\n",
       "      <td>1</td>\n",
       "      <td>(112000.0, 214000.0]</td>\n",
       "      <td>(28.8, 36.6]</td>\n",
       "      <td>(-0.001, 0.2]</td>\n",
       "      <td>(-0.001, 0.2]</td>\n",
       "      <td>(-0.001, 0.2]</td>\n",
       "      <td>(-0.001, 0.2]</td>\n",
       "      <td>(-0.001, 0.2]</td>\n",
       "      <td>(-0.001, 0.2]</td>\n",
       "      <td>(-0.001, 0.2]</td>\n",
       "      <td>(-0.001, 0.2]</td>\n",
       "      <td>(-0.001, 0.2]</td>\n",
       "      <td>(-0.001, 0.2]</td>\n",
       "      <td>(-0.001, 0.2]</td>\n",
       "      <td>(-0.001, 0.2]</td>\n",
       "    </tr>\n",
       "    <tr>\n",
       "      <th>29994</th>\n",
       "      <td>80000.0</td>\n",
       "      <td>0</td>\n",
       "      <td>2</td>\n",
       "      <td>2</td>\n",
       "      <td>34</td>\n",
       "      <td>2</td>\n",
       "      <td>2</td>\n",
       "      <td>2</td>\n",
       "      <td>2</td>\n",
       "      <td>2</td>\n",
       "      <td>2</td>\n",
       "      <td>0.124717</td>\n",
       "      <td>0.135693</td>\n",
       "      <td>0.172050</td>\n",
       "      <td>0.171349</td>\n",
       "      <td>0.186196</td>\n",
       "      <td>0.185587</td>\n",
       "      <td>0.037392</td>\n",
       "      <td>0.011553</td>\n",
       "      <td>0.000000</td>\n",
       "      <td>0.036136</td>\n",
       "      <td>0.000000</td>\n",
       "      <td>0.011584</td>\n",
       "      <td>1</td>\n",
       "      <td>(9490.0, 112000.0]</td>\n",
       "      <td>(28.8, 36.6]</td>\n",
       "      <td>(-0.001, 0.2]</td>\n",
       "      <td>(-0.001, 0.2]</td>\n",
       "      <td>(-0.001, 0.2]</td>\n",
       "      <td>(-0.001, 0.2]</td>\n",
       "      <td>(-0.001, 0.2]</td>\n",
       "      <td>(-0.001, 0.2]</td>\n",
       "      <td>(-0.001, 0.2]</td>\n",
       "      <td>(-0.001, 0.2]</td>\n",
       "      <td>(-0.001, 0.2]</td>\n",
       "      <td>(-0.001, 0.2]</td>\n",
       "      <td>(-0.001, 0.2]</td>\n",
       "      <td>(-0.001, 0.2]</td>\n",
       "    </tr>\n",
       "  </tbody>\n",
       "</table>\n",
       "<p>3986 rows × 38 columns</p>\n",
       "</div>"
      ],
      "text/plain": [
       "       LIMIT_BAL  SEX  EDUCATION  MARRIAGE  AGE  PAY_1  PAY_2  PAY_3  PAY_4  \\\n",
       "11      260000.0    1          1         2   51      0      0      0      0   \n",
       "21      120000.0    1          2         1   39      0      0      0      0   \n",
       "28       50000.0    1          3         1   47      0      0      0      0   \n",
       "30      230000.0    1          1         2   27      0      0      0      0   \n",
       "48      380000.0    0          2         2   32      0      0      0      0   \n",
       "...          ...  ...        ...       ...  ...    ...    ...    ...    ...   \n",
       "29934   360000.0    0          2         1   45      0      0      0      0   \n",
       "29942   130000.0    0          3         1   45      0      0      0      0   \n",
       "29976    40000.0    0          2         2   47      2      2      3      2   \n",
       "29991   210000.0    0          2         1   34      3      2      2      2   \n",
       "29994    80000.0    0          2         2   34      2      2      2      2   \n",
       "\n",
       "       PAY_5  PAY_6  BILL_AMT1  BILL_AMT2  BILL_AMT3  BILL_AMT4  BILL_AMT5  \\\n",
       "11         0      2   0.021075   0.037840   0.021599   0.018826   0.050235   \n",
       "21         0      0   0.000543   0.000552   0.000685   0.000000   0.001425   \n",
       "28         0      0   0.001117   0.005963   0.007404   0.004509   0.068589   \n",
       "30         0      0   0.028612   0.030148   0.028752   0.033905   0.032248   \n",
       "48         0      0   0.038505   0.037613   0.032800   0.070773   0.026708   \n",
       "...      ...    ...        ...        ...        ...        ...        ...   \n",
       "29934      0      0   0.031889   0.001460   0.001812   0.001848   0.002222   \n",
       "29942      0      0   0.002535   0.003189   0.006136   0.006092   0.003573   \n",
       "29976      2      2   0.089997   0.095852   0.115767   0.113303   0.106278   \n",
       "29991      2      2   0.004297   0.004365   0.005418   0.005526   0.005635   \n",
       "29994      2      2   0.124717   0.135693   0.172050   0.171349   0.186196   \n",
       "\n",
       "       BILL_AMT6  PAY_AMT1  PAY_AMT2  PAY_AMT3  PAY_AMT4  PAY_AMT5  PAY_AMT6  \\\n",
       "11      0.031255  0.116545  0.032895  0.020554  0.115125  0.000000  0.010542   \n",
       "21      0.000723  0.001688  0.001043  0.000000  0.003263  0.001044  0.000000   \n",
       "28      0.000588  0.018242  0.011292  0.004895  0.157089  0.000849  0.000000   \n",
       "30      0.084433  0.092251  0.043837  0.036732  0.073857  0.123148  0.000000   \n",
       "48      0.027150  0.115060  0.049967  0.059094  0.061178  0.039214  0.023896   \n",
       "...          ...       ...       ...       ...       ...       ...       ...   \n",
       "29934   0.002255  0.004466  0.002759  0.002002  0.005090  0.003256  0.001770   \n",
       "29942   0.002778  0.009754  0.009344  0.006600  0.008182  0.004012  0.006956   \n",
       "29976   0.107326  0.021367  0.000000  0.004789  0.000000  0.011624  0.000000   \n",
       "29991   0.005717  0.000000  0.000000  0.000000  0.000000  0.000000  0.000000   \n",
       "29994   0.185587  0.037392  0.011553  0.000000  0.036136  0.000000  0.011584   \n",
       "\n",
       "       target Categorical_LIMIT_BAL Categorical_Age Categorical_BILL_AMT1  \\\n",
       "11          0  (214000.0, 316000.0]    (44.4, 52.2]         (-0.001, 0.2]   \n",
       "21          1  (112000.0, 214000.0]    (36.6, 44.4]         (-0.001, 0.2]   \n",
       "28          0    (9490.0, 112000.0]    (44.4, 52.2]         (-0.001, 0.2]   \n",
       "30          0  (214000.0, 316000.0]  (20.961, 28.8]         (-0.001, 0.2]   \n",
       "48          0  (316000.0, 418000.0]    (28.8, 36.6]         (-0.001, 0.2]   \n",
       "...       ...                   ...             ...                   ...   \n",
       "29934       0  (316000.0, 418000.0]    (44.4, 52.2]         (-0.001, 0.2]   \n",
       "29942       1  (112000.0, 214000.0]    (44.4, 52.2]         (-0.001, 0.2]   \n",
       "29976       1    (9490.0, 112000.0]    (44.4, 52.2]         (-0.001, 0.2]   \n",
       "29991       1  (112000.0, 214000.0]    (28.8, 36.6]         (-0.001, 0.2]   \n",
       "29994       1    (9490.0, 112000.0]    (28.8, 36.6]         (-0.001, 0.2]   \n",
       "\n",
       "      Categorical_BILL_AMT2 Categorical_BILL_AMT3 Categorical_BILL_AMT4  \\\n",
       "11            (-0.001, 0.2]         (-0.001, 0.2]         (-0.001, 0.2]   \n",
       "21            (-0.001, 0.2]         (-0.001, 0.2]         (-0.001, 0.2]   \n",
       "28            (-0.001, 0.2]         (-0.001, 0.2]         (-0.001, 0.2]   \n",
       "30            (-0.001, 0.2]         (-0.001, 0.2]         (-0.001, 0.2]   \n",
       "48            (-0.001, 0.2]         (-0.001, 0.2]         (-0.001, 0.2]   \n",
       "...                     ...                   ...                   ...   \n",
       "29934         (-0.001, 0.2]         (-0.001, 0.2]         (-0.001, 0.2]   \n",
       "29942         (-0.001, 0.2]         (-0.001, 0.2]         (-0.001, 0.2]   \n",
       "29976         (-0.001, 0.2]         (-0.001, 0.2]         (-0.001, 0.2]   \n",
       "29991         (-0.001, 0.2]         (-0.001, 0.2]         (-0.001, 0.2]   \n",
       "29994         (-0.001, 0.2]         (-0.001, 0.2]         (-0.001, 0.2]   \n",
       "\n",
       "      Categorical_BILL_AMT5 Categorical_BILL_AMT6 Categorical_PAY_AMT1  \\\n",
       "11            (-0.001, 0.2]         (-0.001, 0.2]        (-0.001, 0.2]   \n",
       "21            (-0.001, 0.2]         (-0.001, 0.2]        (-0.001, 0.2]   \n",
       "28            (-0.001, 0.2]         (-0.001, 0.2]        (-0.001, 0.2]   \n",
       "30            (-0.001, 0.2]         (-0.001, 0.2]        (-0.001, 0.2]   \n",
       "48            (-0.001, 0.2]         (-0.001, 0.2]        (-0.001, 0.2]   \n",
       "...                     ...                   ...                  ...   \n",
       "29934         (-0.001, 0.2]         (-0.001, 0.2]        (-0.001, 0.2]   \n",
       "29942         (-0.001, 0.2]         (-0.001, 0.2]        (-0.001, 0.2]   \n",
       "29976         (-0.001, 0.2]         (-0.001, 0.2]        (-0.001, 0.2]   \n",
       "29991         (-0.001, 0.2]         (-0.001, 0.2]        (-0.001, 0.2]   \n",
       "29994         (-0.001, 0.2]         (-0.001, 0.2]        (-0.001, 0.2]   \n",
       "\n",
       "      Categorical_PAY_AMT2 Categorical_PAY_AMT3 Categorical_PAY_AMT4  \\\n",
       "11           (-0.001, 0.2]        (-0.001, 0.2]        (-0.001, 0.2]   \n",
       "21           (-0.001, 0.2]        (-0.001, 0.2]        (-0.001, 0.2]   \n",
       "28           (-0.001, 0.2]        (-0.001, 0.2]        (-0.001, 0.2]   \n",
       "30           (-0.001, 0.2]        (-0.001, 0.2]        (-0.001, 0.2]   \n",
       "48           (-0.001, 0.2]        (-0.001, 0.2]        (-0.001, 0.2]   \n",
       "...                    ...                  ...                  ...   \n",
       "29934        (-0.001, 0.2]        (-0.001, 0.2]        (-0.001, 0.2]   \n",
       "29942        (-0.001, 0.2]        (-0.001, 0.2]        (-0.001, 0.2]   \n",
       "29976        (-0.001, 0.2]        (-0.001, 0.2]        (-0.001, 0.2]   \n",
       "29991        (-0.001, 0.2]        (-0.001, 0.2]        (-0.001, 0.2]   \n",
       "29994        (-0.001, 0.2]        (-0.001, 0.2]        (-0.001, 0.2]   \n",
       "\n",
       "      Categorical_PAY_AMT5 Categorical_PAY_AMT6  \n",
       "11           (-0.001, 0.2]        (-0.001, 0.2]  \n",
       "21           (-0.001, 0.2]        (-0.001, 0.2]  \n",
       "28           (-0.001, 0.2]        (-0.001, 0.2]  \n",
       "30           (-0.001, 0.2]        (-0.001, 0.2]  \n",
       "48           (-0.001, 0.2]        (-0.001, 0.2]  \n",
       "...                    ...                  ...  \n",
       "29934        (-0.001, 0.2]        (-0.001, 0.2]  \n",
       "29942        (-0.001, 0.2]        (-0.001, 0.2]  \n",
       "29976        (-0.001, 0.2]        (-0.001, 0.2]  \n",
       "29991        (-0.001, 0.2]        (-0.001, 0.2]  \n",
       "29994        (-0.001, 0.2]        (-0.001, 0.2]  \n",
       "\n",
       "[3986 rows x 38 columns]"
      ]
     },
     "execution_count": 41,
     "metadata": {},
     "output_type": "execute_result"
    }
   ],
   "source": [
    "df"
   ]
  },
  {
   "cell_type": "code",
   "execution_count": 42,
   "id": "backed-topic",
   "metadata": {
    "id": "flush-implement"
   },
   "outputs": [],
   "source": [
    "# ---------------------LABEL ENCODING-------------\n",
    "# now to create encoded columns, we first convert all columns to 'category' type \n",
    "# we then create encoded columns\n",
    "\n",
    "df['Categorical_LIMIT_BAL'] = df['Categorical_LIMIT_BAL'].astype('category')\n",
    "df['Categorical_LIMIT_BAL_encode'] = df['Categorical_LIMIT_BAL'].cat.codes\n",
    "\n",
    "df['Categorical_Age'] = df['Categorical_Age'].astype('category')\n",
    "df['Categorical_Age_encode'] = df['Categorical_Age'].cat.codes\n",
    "\n",
    "df['Categorical_BILL_AMT1'] = df['Categorical_BILL_AMT1'].astype('category')\n",
    "df['Categorical_BILL_AMT1_encode'] = df['Categorical_BILL_AMT1'].cat.codes\n",
    "\n",
    "df['Categorical_BILL_AMT2'] = df['Categorical_BILL_AMT2'].astype('category')\n",
    "df['Categorical_BILL_AMT2_encode'] = df['Categorical_BILL_AMT2'].cat.codes\n",
    "\n",
    "df['Categorical_BILL_AMT3'] = df['Categorical_BILL_AMT3'].astype('category')\n",
    "df['Categorical_BILL_AMT3_encode'] = df['Categorical_BILL_AMT3'].cat.codes\n",
    "\n",
    "df['Categorical_BILL_AMT4'] = df['Categorical_BILL_AMT4'].astype('category')\n",
    "df['Categorical_BILL_AMT4_encode'] = df['Categorical_BILL_AMT4'].cat.codes\n",
    "\n",
    "df['Categorical_BILL_AMT5'] = df['Categorical_BILL_AMT5'].astype('category')\n",
    "df['Categorical_BILL_AMT5_encode'] = df['Categorical_BILL_AMT5'].cat.codes\n",
    "\n",
    "df['Categorical_BILL_AMT6'] = df['Categorical_BILL_AMT6'].astype('category')\n",
    "df['Categorical_BILL_AMT6_encode'] = df['Categorical_BILL_AMT6'].cat.codes\n",
    "\n",
    "df['Categorical_PAY_AMT1'] = df['Categorical_PAY_AMT1'].astype('category')\n",
    "df['Categorical_PAY_AMT1_encode'] = df['Categorical_PAY_AMT1'].cat.codes\n",
    "\n",
    "df['Categorical_PAY_AMT2'] = df['Categorical_PAY_AMT2'].astype('category')\n",
    "df['Categorical_PAY_AMT2_encode'] = df['Categorical_PAY_AMT2'].cat.codes\n",
    "\n",
    "df['Categorical_PAY_AMT3'] = df['Categorical_PAY_AMT3'].astype('category')\n",
    "df['Categorical_PAY_AMT3_encode'] = df['Categorical_PAY_AMT3'].cat.codes\n",
    "\n",
    "df['Categorical_PAY_AMT4'] = df['Categorical_PAY_AMT4'].astype('category')\n",
    "df['Categorical_PAY_AMT4_encode'] = df['Categorical_PAY_AMT4'].cat.codes\n",
    "\n",
    "df['Categorical_PAY_AMT5'] = df['Categorical_PAY_AMT5'].astype('category')\n",
    "df['Categorical_PAY_AMT5_encode'] = df['Categorical_PAY_AMT5'].cat.codes\n",
    "\n",
    "df['Categorical_PAY_AMT6'] = df['Categorical_PAY_AMT6'].astype('category')\n",
    "df['Categorical_PAY_AMT6_encode'] = df['Categorical_PAY_AMT6'].cat.codes"
   ]
  },
  {
   "cell_type": "code",
   "execution_count": 43,
   "id": "united-warren",
   "metadata": {
    "colab": {
     "base_uri": "https://localhost:8080/"
    },
    "id": "satellite-shadow",
    "outputId": "9658e2c3-5223-4fa6-fac0-018efb597b81"
   },
   "outputs": [
    {
     "data": {
      "text/plain": [
       "Index(['LIMIT_BAL', 'SEX', 'EDUCATION', 'MARRIAGE', 'AGE', 'PAY_1', 'PAY_2',\n",
       "       'PAY_3', 'PAY_4', 'PAY_5', 'PAY_6', 'BILL_AMT1', 'BILL_AMT2',\n",
       "       'BILL_AMT3', 'BILL_AMT4', 'BILL_AMT5', 'BILL_AMT6', 'PAY_AMT1',\n",
       "       'PAY_AMT2', 'PAY_AMT3', 'PAY_AMT4', 'PAY_AMT5', 'PAY_AMT6', 'target',\n",
       "       'Categorical_LIMIT_BAL', 'Categorical_Age', 'Categorical_BILL_AMT1',\n",
       "       'Categorical_BILL_AMT2', 'Categorical_BILL_AMT3',\n",
       "       'Categorical_BILL_AMT4', 'Categorical_BILL_AMT5',\n",
       "       'Categorical_BILL_AMT6', 'Categorical_PAY_AMT1', 'Categorical_PAY_AMT2',\n",
       "       'Categorical_PAY_AMT3', 'Categorical_PAY_AMT4', 'Categorical_PAY_AMT5',\n",
       "       'Categorical_PAY_AMT6', 'Categorical_LIMIT_BAL_encode',\n",
       "       'Categorical_Age_encode', 'Categorical_BILL_AMT1_encode',\n",
       "       'Categorical_BILL_AMT2_encode', 'Categorical_BILL_AMT3_encode',\n",
       "       'Categorical_BILL_AMT4_encode', 'Categorical_BILL_AMT5_encode',\n",
       "       'Categorical_BILL_AMT6_encode', 'Categorical_PAY_AMT1_encode',\n",
       "       'Categorical_PAY_AMT2_encode', 'Categorical_PAY_AMT3_encode',\n",
       "       'Categorical_PAY_AMT4_encode', 'Categorical_PAY_AMT5_encode',\n",
       "       'Categorical_PAY_AMT6_encode'],\n",
       "      dtype='object')"
      ]
     },
     "execution_count": 43,
     "metadata": {},
     "output_type": "execute_result"
    }
   ],
   "source": [
    "df.columns"
   ]
  },
  {
   "cell_type": "code",
   "execution_count": 44,
   "id": "national-conditioning",
   "metadata": {
    "colab": {
     "base_uri": "https://localhost:8080/",
     "height": 162
    },
    "id": "curious-disco",
    "outputId": "c4c3ea8a-266f-4c18-b5cf-576f3988b89c"
   },
   "outputs": [
    {
     "data": {
      "text/html": [
       "<div>\n",
       "<style scoped>\n",
       "    .dataframe tbody tr th:only-of-type {\n",
       "        vertical-align: middle;\n",
       "    }\n",
       "\n",
       "    .dataframe tbody tr th {\n",
       "        vertical-align: top;\n",
       "    }\n",
       "\n",
       "    .dataframe thead th {\n",
       "        text-align: right;\n",
       "    }\n",
       "</style>\n",
       "<table border=\"1\" class=\"dataframe\">\n",
       "  <thead>\n",
       "    <tr style=\"text-align: right;\">\n",
       "      <th></th>\n",
       "      <th>LIMIT_BAL</th>\n",
       "      <th>SEX</th>\n",
       "      <th>EDUCATION</th>\n",
       "      <th>MARRIAGE</th>\n",
       "      <th>AGE</th>\n",
       "      <th>PAY_1</th>\n",
       "      <th>PAY_2</th>\n",
       "      <th>PAY_3</th>\n",
       "      <th>PAY_4</th>\n",
       "      <th>PAY_5</th>\n",
       "      <th>PAY_6</th>\n",
       "      <th>BILL_AMT1</th>\n",
       "      <th>BILL_AMT2</th>\n",
       "      <th>BILL_AMT3</th>\n",
       "      <th>BILL_AMT4</th>\n",
       "      <th>BILL_AMT5</th>\n",
       "      <th>BILL_AMT6</th>\n",
       "      <th>PAY_AMT1</th>\n",
       "      <th>PAY_AMT2</th>\n",
       "      <th>PAY_AMT3</th>\n",
       "      <th>PAY_AMT4</th>\n",
       "      <th>PAY_AMT5</th>\n",
       "      <th>PAY_AMT6</th>\n",
       "      <th>target</th>\n",
       "      <th>Categorical_LIMIT_BAL</th>\n",
       "      <th>Categorical_Age</th>\n",
       "      <th>Categorical_BILL_AMT1</th>\n",
       "      <th>Categorical_BILL_AMT2</th>\n",
       "      <th>Categorical_BILL_AMT3</th>\n",
       "      <th>Categorical_BILL_AMT4</th>\n",
       "      <th>Categorical_BILL_AMT5</th>\n",
       "      <th>Categorical_BILL_AMT6</th>\n",
       "      <th>Categorical_PAY_AMT1</th>\n",
       "      <th>Categorical_PAY_AMT2</th>\n",
       "      <th>Categorical_PAY_AMT3</th>\n",
       "      <th>Categorical_PAY_AMT4</th>\n",
       "      <th>Categorical_PAY_AMT5</th>\n",
       "      <th>Categorical_PAY_AMT6</th>\n",
       "      <th>Categorical_LIMIT_BAL_encode</th>\n",
       "      <th>Categorical_Age_encode</th>\n",
       "      <th>Categorical_BILL_AMT1_encode</th>\n",
       "      <th>Categorical_BILL_AMT2_encode</th>\n",
       "      <th>Categorical_BILL_AMT3_encode</th>\n",
       "      <th>Categorical_BILL_AMT4_encode</th>\n",
       "      <th>Categorical_BILL_AMT5_encode</th>\n",
       "      <th>Categorical_BILL_AMT6_encode</th>\n",
       "      <th>Categorical_PAY_AMT1_encode</th>\n",
       "      <th>Categorical_PAY_AMT2_encode</th>\n",
       "      <th>Categorical_PAY_AMT3_encode</th>\n",
       "      <th>Categorical_PAY_AMT4_encode</th>\n",
       "      <th>Categorical_PAY_AMT5_encode</th>\n",
       "      <th>Categorical_PAY_AMT6_encode</th>\n",
       "    </tr>\n",
       "  </thead>\n",
       "  <tbody>\n",
       "    <tr>\n",
       "      <th>11</th>\n",
       "      <td>260000.0</td>\n",
       "      <td>1</td>\n",
       "      <td>1</td>\n",
       "      <td>2</td>\n",
       "      <td>51</td>\n",
       "      <td>0</td>\n",
       "      <td>0</td>\n",
       "      <td>0</td>\n",
       "      <td>0</td>\n",
       "      <td>0</td>\n",
       "      <td>2</td>\n",
       "      <td>0.021075</td>\n",
       "      <td>0.037840</td>\n",
       "      <td>0.021599</td>\n",
       "      <td>0.018826</td>\n",
       "      <td>0.050235</td>\n",
       "      <td>0.031255</td>\n",
       "      <td>0.116545</td>\n",
       "      <td>0.032895</td>\n",
       "      <td>0.020554</td>\n",
       "      <td>0.115125</td>\n",
       "      <td>0.000000</td>\n",
       "      <td>0.010542</td>\n",
       "      <td>0</td>\n",
       "      <td>(214000.0, 316000.0]</td>\n",
       "      <td>(44.4, 52.2]</td>\n",
       "      <td>(-0.001, 0.2]</td>\n",
       "      <td>(-0.001, 0.2]</td>\n",
       "      <td>(-0.001, 0.2]</td>\n",
       "      <td>(-0.001, 0.2]</td>\n",
       "      <td>(-0.001, 0.2]</td>\n",
       "      <td>(-0.001, 0.2]</td>\n",
       "      <td>(-0.001, 0.2]</td>\n",
       "      <td>(-0.001, 0.2]</td>\n",
       "      <td>(-0.001, 0.2]</td>\n",
       "      <td>(-0.001, 0.2]</td>\n",
       "      <td>(-0.001, 0.2]</td>\n",
       "      <td>(-0.001, 0.2]</td>\n",
       "      <td>2</td>\n",
       "      <td>3</td>\n",
       "      <td>0</td>\n",
       "      <td>0</td>\n",
       "      <td>0</td>\n",
       "      <td>0</td>\n",
       "      <td>0</td>\n",
       "      <td>0</td>\n",
       "      <td>0</td>\n",
       "      <td>0</td>\n",
       "      <td>0</td>\n",
       "      <td>0</td>\n",
       "      <td>0</td>\n",
       "      <td>0</td>\n",
       "    </tr>\n",
       "    <tr>\n",
       "      <th>21</th>\n",
       "      <td>120000.0</td>\n",
       "      <td>1</td>\n",
       "      <td>2</td>\n",
       "      <td>1</td>\n",
       "      <td>39</td>\n",
       "      <td>0</td>\n",
       "      <td>0</td>\n",
       "      <td>0</td>\n",
       "      <td>0</td>\n",
       "      <td>0</td>\n",
       "      <td>0</td>\n",
       "      <td>0.000543</td>\n",
       "      <td>0.000552</td>\n",
       "      <td>0.000685</td>\n",
       "      <td>0.000000</td>\n",
       "      <td>0.001425</td>\n",
       "      <td>0.000723</td>\n",
       "      <td>0.001688</td>\n",
       "      <td>0.001043</td>\n",
       "      <td>0.000000</td>\n",
       "      <td>0.003263</td>\n",
       "      <td>0.001044</td>\n",
       "      <td>0.000000</td>\n",
       "      <td>1</td>\n",
       "      <td>(112000.0, 214000.0]</td>\n",
       "      <td>(36.6, 44.4]</td>\n",
       "      <td>(-0.001, 0.2]</td>\n",
       "      <td>(-0.001, 0.2]</td>\n",
       "      <td>(-0.001, 0.2]</td>\n",
       "      <td>(-0.001, 0.2]</td>\n",
       "      <td>(-0.001, 0.2]</td>\n",
       "      <td>(-0.001, 0.2]</td>\n",
       "      <td>(-0.001, 0.2]</td>\n",
       "      <td>(-0.001, 0.2]</td>\n",
       "      <td>(-0.001, 0.2]</td>\n",
       "      <td>(-0.001, 0.2]</td>\n",
       "      <td>(-0.001, 0.2]</td>\n",
       "      <td>(-0.001, 0.2]</td>\n",
       "      <td>1</td>\n",
       "      <td>2</td>\n",
       "      <td>0</td>\n",
       "      <td>0</td>\n",
       "      <td>0</td>\n",
       "      <td>0</td>\n",
       "      <td>0</td>\n",
       "      <td>0</td>\n",
       "      <td>0</td>\n",
       "      <td>0</td>\n",
       "      <td>0</td>\n",
       "      <td>0</td>\n",
       "      <td>0</td>\n",
       "      <td>0</td>\n",
       "    </tr>\n",
       "    <tr>\n",
       "      <th>28</th>\n",
       "      <td>50000.0</td>\n",
       "      <td>1</td>\n",
       "      <td>3</td>\n",
       "      <td>1</td>\n",
       "      <td>47</td>\n",
       "      <td>0</td>\n",
       "      <td>0</td>\n",
       "      <td>0</td>\n",
       "      <td>0</td>\n",
       "      <td>0</td>\n",
       "      <td>0</td>\n",
       "      <td>0.001117</td>\n",
       "      <td>0.005963</td>\n",
       "      <td>0.007404</td>\n",
       "      <td>0.004509</td>\n",
       "      <td>0.068589</td>\n",
       "      <td>0.000588</td>\n",
       "      <td>0.018242</td>\n",
       "      <td>0.011292</td>\n",
       "      <td>0.004895</td>\n",
       "      <td>0.157089</td>\n",
       "      <td>0.000849</td>\n",
       "      <td>0.000000</td>\n",
       "      <td>0</td>\n",
       "      <td>(9490.0, 112000.0]</td>\n",
       "      <td>(44.4, 52.2]</td>\n",
       "      <td>(-0.001, 0.2]</td>\n",
       "      <td>(-0.001, 0.2]</td>\n",
       "      <td>(-0.001, 0.2]</td>\n",
       "      <td>(-0.001, 0.2]</td>\n",
       "      <td>(-0.001, 0.2]</td>\n",
       "      <td>(-0.001, 0.2]</td>\n",
       "      <td>(-0.001, 0.2]</td>\n",
       "      <td>(-0.001, 0.2]</td>\n",
       "      <td>(-0.001, 0.2]</td>\n",
       "      <td>(-0.001, 0.2]</td>\n",
       "      <td>(-0.001, 0.2]</td>\n",
       "      <td>(-0.001, 0.2]</td>\n",
       "      <td>0</td>\n",
       "      <td>3</td>\n",
       "      <td>0</td>\n",
       "      <td>0</td>\n",
       "      <td>0</td>\n",
       "      <td>0</td>\n",
       "      <td>0</td>\n",
       "      <td>0</td>\n",
       "      <td>0</td>\n",
       "      <td>0</td>\n",
       "      <td>0</td>\n",
       "      <td>0</td>\n",
       "      <td>0</td>\n",
       "      <td>0</td>\n",
       "    </tr>\n",
       "  </tbody>\n",
       "</table>\n",
       "</div>"
      ],
      "text/plain": [
       "    LIMIT_BAL  SEX  EDUCATION  MARRIAGE  AGE  PAY_1  PAY_2  PAY_3  PAY_4  \\\n",
       "11   260000.0    1          1         2   51      0      0      0      0   \n",
       "21   120000.0    1          2         1   39      0      0      0      0   \n",
       "28    50000.0    1          3         1   47      0      0      0      0   \n",
       "\n",
       "    PAY_5  PAY_6  BILL_AMT1  BILL_AMT2  BILL_AMT3  BILL_AMT4  BILL_AMT5  \\\n",
       "11      0      2   0.021075   0.037840   0.021599   0.018826   0.050235   \n",
       "21      0      0   0.000543   0.000552   0.000685   0.000000   0.001425   \n",
       "28      0      0   0.001117   0.005963   0.007404   0.004509   0.068589   \n",
       "\n",
       "    BILL_AMT6  PAY_AMT1  PAY_AMT2  PAY_AMT3  PAY_AMT4  PAY_AMT5  PAY_AMT6  \\\n",
       "11   0.031255  0.116545  0.032895  0.020554  0.115125  0.000000  0.010542   \n",
       "21   0.000723  0.001688  0.001043  0.000000  0.003263  0.001044  0.000000   \n",
       "28   0.000588  0.018242  0.011292  0.004895  0.157089  0.000849  0.000000   \n",
       "\n",
       "    target Categorical_LIMIT_BAL Categorical_Age Categorical_BILL_AMT1  \\\n",
       "11       0  (214000.0, 316000.0]    (44.4, 52.2]         (-0.001, 0.2]   \n",
       "21       1  (112000.0, 214000.0]    (36.6, 44.4]         (-0.001, 0.2]   \n",
       "28       0    (9490.0, 112000.0]    (44.4, 52.2]         (-0.001, 0.2]   \n",
       "\n",
       "   Categorical_BILL_AMT2 Categorical_BILL_AMT3 Categorical_BILL_AMT4  \\\n",
       "11         (-0.001, 0.2]         (-0.001, 0.2]         (-0.001, 0.2]   \n",
       "21         (-0.001, 0.2]         (-0.001, 0.2]         (-0.001, 0.2]   \n",
       "28         (-0.001, 0.2]         (-0.001, 0.2]         (-0.001, 0.2]   \n",
       "\n",
       "   Categorical_BILL_AMT5 Categorical_BILL_AMT6 Categorical_PAY_AMT1  \\\n",
       "11         (-0.001, 0.2]         (-0.001, 0.2]        (-0.001, 0.2]   \n",
       "21         (-0.001, 0.2]         (-0.001, 0.2]        (-0.001, 0.2]   \n",
       "28         (-0.001, 0.2]         (-0.001, 0.2]        (-0.001, 0.2]   \n",
       "\n",
       "   Categorical_PAY_AMT2 Categorical_PAY_AMT3 Categorical_PAY_AMT4  \\\n",
       "11        (-0.001, 0.2]        (-0.001, 0.2]        (-0.001, 0.2]   \n",
       "21        (-0.001, 0.2]        (-0.001, 0.2]        (-0.001, 0.2]   \n",
       "28        (-0.001, 0.2]        (-0.001, 0.2]        (-0.001, 0.2]   \n",
       "\n",
       "   Categorical_PAY_AMT5 Categorical_PAY_AMT6  Categorical_LIMIT_BAL_encode  \\\n",
       "11        (-0.001, 0.2]        (-0.001, 0.2]                             2   \n",
       "21        (-0.001, 0.2]        (-0.001, 0.2]                             1   \n",
       "28        (-0.001, 0.2]        (-0.001, 0.2]                             0   \n",
       "\n",
       "    Categorical_Age_encode  Categorical_BILL_AMT1_encode  \\\n",
       "11                       3                             0   \n",
       "21                       2                             0   \n",
       "28                       3                             0   \n",
       "\n",
       "    Categorical_BILL_AMT2_encode  Categorical_BILL_AMT3_encode  \\\n",
       "11                             0                             0   \n",
       "21                             0                             0   \n",
       "28                             0                             0   \n",
       "\n",
       "    Categorical_BILL_AMT4_encode  Categorical_BILL_AMT5_encode  \\\n",
       "11                             0                             0   \n",
       "21                             0                             0   \n",
       "28                             0                             0   \n",
       "\n",
       "    Categorical_BILL_AMT6_encode  Categorical_PAY_AMT1_encode  \\\n",
       "11                             0                            0   \n",
       "21                             0                            0   \n",
       "28                             0                            0   \n",
       "\n",
       "    Categorical_PAY_AMT2_encode  Categorical_PAY_AMT3_encode  \\\n",
       "11                            0                            0   \n",
       "21                            0                            0   \n",
       "28                            0                            0   \n",
       "\n",
       "    Categorical_PAY_AMT4_encode  Categorical_PAY_AMT5_encode  \\\n",
       "11                            0                            0   \n",
       "21                            0                            0   \n",
       "28                            0                            0   \n",
       "\n",
       "    Categorical_PAY_AMT6_encode  \n",
       "11                            0  \n",
       "21                            0  \n",
       "28                            0  "
      ]
     },
     "execution_count": 44,
     "metadata": {},
     "output_type": "execute_result"
    }
   ],
   "source": [
    "df.head(3)"
   ]
  },
  {
   "cell_type": "code",
   "execution_count": 45,
   "id": "classified-catering",
   "metadata": {
    "id": "caroline-arcade"
   },
   "outputs": [],
   "source": [
    "# we now drop all unrequired extra columns from the dataframe\n",
    "\n",
    "droplist = ['LIMIT_BAL', 'AGE', 'BILL_AMT1', 'BILL_AMT2',\n",
    "       'BILL_AMT3', 'BILL_AMT4', 'BILL_AMT5', 'BILL_AMT6', 'PAY_AMT1',\n",
    "       'PAY_AMT2', 'PAY_AMT3', 'PAY_AMT4', 'PAY_AMT5', 'PAY_AMT6',\n",
    "       'Categorical_LIMIT_BAL', 'Categorical_Age', 'Categorical_BILL_AMT1',\n",
    "       'Categorical_BILL_AMT2', 'Categorical_BILL_AMT3',\n",
    "       'Categorical_BILL_AMT4', 'Categorical_BILL_AMT5',\n",
    "       'Categorical_BILL_AMT6', 'Categorical_PAY_AMT1', 'Categorical_PAY_AMT2',\n",
    "       'Categorical_PAY_AMT3', 'Categorical_PAY_AMT4', 'Categorical_PAY_AMT5',\n",
    "       'Categorical_PAY_AMT6']\n",
    "\n",
    "df_cleaned = df.drop(droplist,axis=1)"
   ]
  },
  {
   "cell_type": "code",
   "execution_count": 46,
   "id": "relative-marine",
   "metadata": {
    "colab": {
     "base_uri": "https://localhost:8080/",
     "height": 439
    },
    "id": "drawn-skill",
    "outputId": "88bf5787-4991-4c07-f718-a4f728f52e47"
   },
   "outputs": [
    {
     "data": {
      "text/html": [
       "<div>\n",
       "<style scoped>\n",
       "    .dataframe tbody tr th:only-of-type {\n",
       "        vertical-align: middle;\n",
       "    }\n",
       "\n",
       "    .dataframe tbody tr th {\n",
       "        vertical-align: top;\n",
       "    }\n",
       "\n",
       "    .dataframe thead th {\n",
       "        text-align: right;\n",
       "    }\n",
       "</style>\n",
       "<table border=\"1\" class=\"dataframe\">\n",
       "  <thead>\n",
       "    <tr style=\"text-align: right;\">\n",
       "      <th></th>\n",
       "      <th>SEX</th>\n",
       "      <th>EDUCATION</th>\n",
       "      <th>MARRIAGE</th>\n",
       "      <th>PAY_1</th>\n",
       "      <th>PAY_2</th>\n",
       "      <th>PAY_3</th>\n",
       "      <th>PAY_4</th>\n",
       "      <th>PAY_5</th>\n",
       "      <th>PAY_6</th>\n",
       "      <th>target</th>\n",
       "      <th>Categorical_LIMIT_BAL_encode</th>\n",
       "      <th>Categorical_Age_encode</th>\n",
       "      <th>Categorical_BILL_AMT1_encode</th>\n",
       "      <th>Categorical_BILL_AMT2_encode</th>\n",
       "      <th>Categorical_BILL_AMT3_encode</th>\n",
       "      <th>Categorical_BILL_AMT4_encode</th>\n",
       "      <th>Categorical_BILL_AMT5_encode</th>\n",
       "      <th>Categorical_BILL_AMT6_encode</th>\n",
       "      <th>Categorical_PAY_AMT1_encode</th>\n",
       "      <th>Categorical_PAY_AMT2_encode</th>\n",
       "      <th>Categorical_PAY_AMT3_encode</th>\n",
       "      <th>Categorical_PAY_AMT4_encode</th>\n",
       "      <th>Categorical_PAY_AMT5_encode</th>\n",
       "      <th>Categorical_PAY_AMT6_encode</th>\n",
       "    </tr>\n",
       "  </thead>\n",
       "  <tbody>\n",
       "    <tr>\n",
       "      <th>11</th>\n",
       "      <td>1</td>\n",
       "      <td>1</td>\n",
       "      <td>2</td>\n",
       "      <td>0</td>\n",
       "      <td>0</td>\n",
       "      <td>0</td>\n",
       "      <td>0</td>\n",
       "      <td>0</td>\n",
       "      <td>2</td>\n",
       "      <td>0</td>\n",
       "      <td>2</td>\n",
       "      <td>3</td>\n",
       "      <td>0</td>\n",
       "      <td>0</td>\n",
       "      <td>0</td>\n",
       "      <td>0</td>\n",
       "      <td>0</td>\n",
       "      <td>0</td>\n",
       "      <td>0</td>\n",
       "      <td>0</td>\n",
       "      <td>0</td>\n",
       "      <td>0</td>\n",
       "      <td>0</td>\n",
       "      <td>0</td>\n",
       "    </tr>\n",
       "    <tr>\n",
       "      <th>21</th>\n",
       "      <td>1</td>\n",
       "      <td>2</td>\n",
       "      <td>1</td>\n",
       "      <td>0</td>\n",
       "      <td>0</td>\n",
       "      <td>0</td>\n",
       "      <td>0</td>\n",
       "      <td>0</td>\n",
       "      <td>0</td>\n",
       "      <td>1</td>\n",
       "      <td>1</td>\n",
       "      <td>2</td>\n",
       "      <td>0</td>\n",
       "      <td>0</td>\n",
       "      <td>0</td>\n",
       "      <td>0</td>\n",
       "      <td>0</td>\n",
       "      <td>0</td>\n",
       "      <td>0</td>\n",
       "      <td>0</td>\n",
       "      <td>0</td>\n",
       "      <td>0</td>\n",
       "      <td>0</td>\n",
       "      <td>0</td>\n",
       "    </tr>\n",
       "    <tr>\n",
       "      <th>28</th>\n",
       "      <td>1</td>\n",
       "      <td>3</td>\n",
       "      <td>1</td>\n",
       "      <td>0</td>\n",
       "      <td>0</td>\n",
       "      <td>0</td>\n",
       "      <td>0</td>\n",
       "      <td>0</td>\n",
       "      <td>0</td>\n",
       "      <td>0</td>\n",
       "      <td>0</td>\n",
       "      <td>3</td>\n",
       "      <td>0</td>\n",
       "      <td>0</td>\n",
       "      <td>0</td>\n",
       "      <td>0</td>\n",
       "      <td>0</td>\n",
       "      <td>0</td>\n",
       "      <td>0</td>\n",
       "      <td>0</td>\n",
       "      <td>0</td>\n",
       "      <td>0</td>\n",
       "      <td>0</td>\n",
       "      <td>0</td>\n",
       "    </tr>\n",
       "    <tr>\n",
       "      <th>30</th>\n",
       "      <td>1</td>\n",
       "      <td>1</td>\n",
       "      <td>2</td>\n",
       "      <td>0</td>\n",
       "      <td>0</td>\n",
       "      <td>0</td>\n",
       "      <td>0</td>\n",
       "      <td>0</td>\n",
       "      <td>0</td>\n",
       "      <td>0</td>\n",
       "      <td>2</td>\n",
       "      <td>0</td>\n",
       "      <td>0</td>\n",
       "      <td>0</td>\n",
       "      <td>0</td>\n",
       "      <td>0</td>\n",
       "      <td>0</td>\n",
       "      <td>0</td>\n",
       "      <td>0</td>\n",
       "      <td>0</td>\n",
       "      <td>0</td>\n",
       "      <td>0</td>\n",
       "      <td>0</td>\n",
       "      <td>0</td>\n",
       "    </tr>\n",
       "    <tr>\n",
       "      <th>48</th>\n",
       "      <td>0</td>\n",
       "      <td>2</td>\n",
       "      <td>2</td>\n",
       "      <td>0</td>\n",
       "      <td>0</td>\n",
       "      <td>0</td>\n",
       "      <td>0</td>\n",
       "      <td>0</td>\n",
       "      <td>0</td>\n",
       "      <td>0</td>\n",
       "      <td>3</td>\n",
       "      <td>1</td>\n",
       "      <td>0</td>\n",
       "      <td>0</td>\n",
       "      <td>0</td>\n",
       "      <td>0</td>\n",
       "      <td>0</td>\n",
       "      <td>0</td>\n",
       "      <td>0</td>\n",
       "      <td>0</td>\n",
       "      <td>0</td>\n",
       "      <td>0</td>\n",
       "      <td>0</td>\n",
       "      <td>0</td>\n",
       "    </tr>\n",
       "    <tr>\n",
       "      <th>...</th>\n",
       "      <td>...</td>\n",
       "      <td>...</td>\n",
       "      <td>...</td>\n",
       "      <td>...</td>\n",
       "      <td>...</td>\n",
       "      <td>...</td>\n",
       "      <td>...</td>\n",
       "      <td>...</td>\n",
       "      <td>...</td>\n",
       "      <td>...</td>\n",
       "      <td>...</td>\n",
       "      <td>...</td>\n",
       "      <td>...</td>\n",
       "      <td>...</td>\n",
       "      <td>...</td>\n",
       "      <td>...</td>\n",
       "      <td>...</td>\n",
       "      <td>...</td>\n",
       "      <td>...</td>\n",
       "      <td>...</td>\n",
       "      <td>...</td>\n",
       "      <td>...</td>\n",
       "      <td>...</td>\n",
       "      <td>...</td>\n",
       "    </tr>\n",
       "    <tr>\n",
       "      <th>29934</th>\n",
       "      <td>0</td>\n",
       "      <td>2</td>\n",
       "      <td>1</td>\n",
       "      <td>0</td>\n",
       "      <td>0</td>\n",
       "      <td>0</td>\n",
       "      <td>0</td>\n",
       "      <td>0</td>\n",
       "      <td>0</td>\n",
       "      <td>0</td>\n",
       "      <td>3</td>\n",
       "      <td>3</td>\n",
       "      <td>0</td>\n",
       "      <td>0</td>\n",
       "      <td>0</td>\n",
       "      <td>0</td>\n",
       "      <td>0</td>\n",
       "      <td>0</td>\n",
       "      <td>0</td>\n",
       "      <td>0</td>\n",
       "      <td>0</td>\n",
       "      <td>0</td>\n",
       "      <td>0</td>\n",
       "      <td>0</td>\n",
       "    </tr>\n",
       "    <tr>\n",
       "      <th>29942</th>\n",
       "      <td>0</td>\n",
       "      <td>3</td>\n",
       "      <td>1</td>\n",
       "      <td>0</td>\n",
       "      <td>0</td>\n",
       "      <td>0</td>\n",
       "      <td>0</td>\n",
       "      <td>0</td>\n",
       "      <td>0</td>\n",
       "      <td>1</td>\n",
       "      <td>1</td>\n",
       "      <td>3</td>\n",
       "      <td>0</td>\n",
       "      <td>0</td>\n",
       "      <td>0</td>\n",
       "      <td>0</td>\n",
       "      <td>0</td>\n",
       "      <td>0</td>\n",
       "      <td>0</td>\n",
       "      <td>0</td>\n",
       "      <td>0</td>\n",
       "      <td>0</td>\n",
       "      <td>0</td>\n",
       "      <td>0</td>\n",
       "    </tr>\n",
       "    <tr>\n",
       "      <th>29976</th>\n",
       "      <td>0</td>\n",
       "      <td>2</td>\n",
       "      <td>2</td>\n",
       "      <td>2</td>\n",
       "      <td>2</td>\n",
       "      <td>3</td>\n",
       "      <td>2</td>\n",
       "      <td>2</td>\n",
       "      <td>2</td>\n",
       "      <td>1</td>\n",
       "      <td>0</td>\n",
       "      <td>3</td>\n",
       "      <td>0</td>\n",
       "      <td>0</td>\n",
       "      <td>0</td>\n",
       "      <td>0</td>\n",
       "      <td>0</td>\n",
       "      <td>0</td>\n",
       "      <td>0</td>\n",
       "      <td>0</td>\n",
       "      <td>0</td>\n",
       "      <td>0</td>\n",
       "      <td>0</td>\n",
       "      <td>0</td>\n",
       "    </tr>\n",
       "    <tr>\n",
       "      <th>29991</th>\n",
       "      <td>0</td>\n",
       "      <td>2</td>\n",
       "      <td>1</td>\n",
       "      <td>3</td>\n",
       "      <td>2</td>\n",
       "      <td>2</td>\n",
       "      <td>2</td>\n",
       "      <td>2</td>\n",
       "      <td>2</td>\n",
       "      <td>1</td>\n",
       "      <td>1</td>\n",
       "      <td>1</td>\n",
       "      <td>0</td>\n",
       "      <td>0</td>\n",
       "      <td>0</td>\n",
       "      <td>0</td>\n",
       "      <td>0</td>\n",
       "      <td>0</td>\n",
       "      <td>0</td>\n",
       "      <td>0</td>\n",
       "      <td>0</td>\n",
       "      <td>0</td>\n",
       "      <td>0</td>\n",
       "      <td>0</td>\n",
       "    </tr>\n",
       "    <tr>\n",
       "      <th>29994</th>\n",
       "      <td>0</td>\n",
       "      <td>2</td>\n",
       "      <td>2</td>\n",
       "      <td>2</td>\n",
       "      <td>2</td>\n",
       "      <td>2</td>\n",
       "      <td>2</td>\n",
       "      <td>2</td>\n",
       "      <td>2</td>\n",
       "      <td>1</td>\n",
       "      <td>0</td>\n",
       "      <td>1</td>\n",
       "      <td>0</td>\n",
       "      <td>0</td>\n",
       "      <td>0</td>\n",
       "      <td>0</td>\n",
       "      <td>0</td>\n",
       "      <td>0</td>\n",
       "      <td>0</td>\n",
       "      <td>0</td>\n",
       "      <td>0</td>\n",
       "      <td>0</td>\n",
       "      <td>0</td>\n",
       "      <td>0</td>\n",
       "    </tr>\n",
       "  </tbody>\n",
       "</table>\n",
       "<p>3986 rows × 24 columns</p>\n",
       "</div>"
      ],
      "text/plain": [
       "       SEX  EDUCATION  MARRIAGE  PAY_1  PAY_2  PAY_3  PAY_4  PAY_5  PAY_6  \\\n",
       "11       1          1         2      0      0      0      0      0      2   \n",
       "21       1          2         1      0      0      0      0      0      0   \n",
       "28       1          3         1      0      0      0      0      0      0   \n",
       "30       1          1         2      0      0      0      0      0      0   \n",
       "48       0          2         2      0      0      0      0      0      0   \n",
       "...    ...        ...       ...    ...    ...    ...    ...    ...    ...   \n",
       "29934    0          2         1      0      0      0      0      0      0   \n",
       "29942    0          3         1      0      0      0      0      0      0   \n",
       "29976    0          2         2      2      2      3      2      2      2   \n",
       "29991    0          2         1      3      2      2      2      2      2   \n",
       "29994    0          2         2      2      2      2      2      2      2   \n",
       "\n",
       "       target  Categorical_LIMIT_BAL_encode  Categorical_Age_encode  \\\n",
       "11          0                             2                       3   \n",
       "21          1                             1                       2   \n",
       "28          0                             0                       3   \n",
       "30          0                             2                       0   \n",
       "48          0                             3                       1   \n",
       "...       ...                           ...                     ...   \n",
       "29934       0                             3                       3   \n",
       "29942       1                             1                       3   \n",
       "29976       1                             0                       3   \n",
       "29991       1                             1                       1   \n",
       "29994       1                             0                       1   \n",
       "\n",
       "       Categorical_BILL_AMT1_encode  Categorical_BILL_AMT2_encode  \\\n",
       "11                                0                             0   \n",
       "21                                0                             0   \n",
       "28                                0                             0   \n",
       "30                                0                             0   \n",
       "48                                0                             0   \n",
       "...                             ...                           ...   \n",
       "29934                             0                             0   \n",
       "29942                             0                             0   \n",
       "29976                             0                             0   \n",
       "29991                             0                             0   \n",
       "29994                             0                             0   \n",
       "\n",
       "       Categorical_BILL_AMT3_encode  Categorical_BILL_AMT4_encode  \\\n",
       "11                                0                             0   \n",
       "21                                0                             0   \n",
       "28                                0                             0   \n",
       "30                                0                             0   \n",
       "48                                0                             0   \n",
       "...                             ...                           ...   \n",
       "29934                             0                             0   \n",
       "29942                             0                             0   \n",
       "29976                             0                             0   \n",
       "29991                             0                             0   \n",
       "29994                             0                             0   \n",
       "\n",
       "       Categorical_BILL_AMT5_encode  Categorical_BILL_AMT6_encode  \\\n",
       "11                                0                             0   \n",
       "21                                0                             0   \n",
       "28                                0                             0   \n",
       "30                                0                             0   \n",
       "48                                0                             0   \n",
       "...                             ...                           ...   \n",
       "29934                             0                             0   \n",
       "29942                             0                             0   \n",
       "29976                             0                             0   \n",
       "29991                             0                             0   \n",
       "29994                             0                             0   \n",
       "\n",
       "       Categorical_PAY_AMT1_encode  Categorical_PAY_AMT2_encode  \\\n",
       "11                               0                            0   \n",
       "21                               0                            0   \n",
       "28                               0                            0   \n",
       "30                               0                            0   \n",
       "48                               0                            0   \n",
       "...                            ...                          ...   \n",
       "29934                            0                            0   \n",
       "29942                            0                            0   \n",
       "29976                            0                            0   \n",
       "29991                            0                            0   \n",
       "29994                            0                            0   \n",
       "\n",
       "       Categorical_PAY_AMT3_encode  Categorical_PAY_AMT4_encode  \\\n",
       "11                               0                            0   \n",
       "21                               0                            0   \n",
       "28                               0                            0   \n",
       "30                               0                            0   \n",
       "48                               0                            0   \n",
       "...                            ...                          ...   \n",
       "29934                            0                            0   \n",
       "29942                            0                            0   \n",
       "29976                            0                            0   \n",
       "29991                            0                            0   \n",
       "29994                            0                            0   \n",
       "\n",
       "       Categorical_PAY_AMT5_encode  Categorical_PAY_AMT6_encode  \n",
       "11                               0                            0  \n",
       "21                               0                            0  \n",
       "28                               0                            0  \n",
       "30                               0                            0  \n",
       "48                               0                            0  \n",
       "...                            ...                          ...  \n",
       "29934                            0                            0  \n",
       "29942                            0                            0  \n",
       "29976                            0                            0  \n",
       "29991                            0                            0  \n",
       "29994                            0                            0  \n",
       "\n",
       "[3986 rows x 24 columns]"
      ]
     },
     "execution_count": 46,
     "metadata": {},
     "output_type": "execute_result"
    }
   ],
   "source": [
    "df_cleaned"
   ]
  },
  {
   "cell_type": "markdown",
   "id": "sealed-yield",
   "metadata": {
    "id": "vietnamese-kansas"
   },
   "source": [
    "# 7) Find correlation between all columns using heatmap:"
   ]
  },
  {
   "cell_type": "code",
   "execution_count": 47,
   "id": "coupled-gather",
   "metadata": {
    "colab": {
     "base_uri": "https://localhost:8080/",
     "height": 760
    },
    "id": "above-danish",
    "outputId": "35d1ceeb-ac1f-4664-9a61-272d3dbb245b"
   },
   "outputs": [
    {
     "data": {
      "text/plain": [
       "<matplotlib.axes._subplots.AxesSubplot at 0x7f9329df9c90>"
      ]
     },
     "execution_count": 47,
     "metadata": {},
     "output_type": "execute_result"
    },
    {
     "data": {
      "image/png": "[encoded data removed]",
      "text/plain": [
       "<Figure size 1008x720 with 2 Axes>"
      ]
     },
     "metadata": {
      "needs_background": "light"
     },
     "output_type": "display_data"
    }
   ],
   "source": [
    "# Plot a heatmap to check for highly correlated columns\n",
    "# if correlation between two columns > 0.95, then we drop one of the two columns\n",
    "\n",
    "colormap = plt.cm.Blues\n",
    "\n",
    "plt.figure(figsize=(14,10))\n",
    "sns.heatmap(df_cleaned.corr(),cmap = colormap,annot=True,linewidths=1)"
   ]
  },
  {
   "cell_type": "markdown",
   "id": "desperate-attack",
   "metadata": {
    "id": "f0Mk4a5tUWwW"
   },
   "source": [
    "# 8) Train Test Split:"
   ]
  },
  {
   "cell_type": "code",
   "execution_count": 58,
   "id": "invalid-space",
   "metadata": {
    "id": "refined-treatment"
   },
   "outputs": [],
   "source": [
    "# We now seperate the features and the target\n",
    "\n",
    "X = df_cleaned.drop(\"target\",axis=1)\n",
    "y = df_cleaned['target']\n",
    "\n",
    "# we split into train and test\n",
    "\n",
    "from sklearn.model_selection import train_test_split\n",
    "\n",
    "X_train, X_test, y_train, y_test = train_test_split(X,y,test_size=0.2,random_state=1)"
   ]
  },
  {
   "cell_type": "markdown",
   "id": "tested-consultancy",
   "metadata": {
    "id": "stable-master"
   },
   "source": [
    "# 9) Selecting best features:"
   ]
  },
  {
   "cell_type": "code",
   "execution_count": 59,
   "id": "documented-crack",
   "metadata": {
    "colab": {
     "base_uri": "https://localhost:8080/",
     "height": 342
    },
    "id": "abandoned-clause",
    "outputId": "e742f4b6-68a9-4958-f26e-a5aa5be5ea2c",
    "scrolled": true
   },
   "outputs": [
    {
     "name": "stderr",
     "output_type": "stream",
     "text": [
      "/usr/local/lib/python3.7/dist-packages/seaborn/_decorators.py:43: FutureWarning: Pass the following variables as keyword args: x, y. From version 0.12, the only valid positional argument will be `data`, and passing other arguments without an explicit keyword will result in an error or misinterpretation.\n",
      "  FutureWarning\n"
     ]
    },
    {
     "data": {
      "image/png": "[encoded data removed]",
      "text/plain": [
       "<Figure size 432x288 with 1 Axes>"
      ]
     },
     "metadata": {
      "needs_background": "light"
     },
     "output_type": "display_data"
    }
   ],
   "source": [
    "# we now select the best features from X using f_Scores \n",
    "\n",
    "from sklearn.feature_selection import SelectKBest\n",
    "from sklearn.feature_selection import f_classif\n",
    "from sklearn.feature_selection import chi2\n",
    "\n",
    "predictors = X_train.head(0)\n",
    "# k = number of features to be selected using chi2\n",
    "selector = SelectKBest(chi2, k='all')\n",
    "sl_fit = selector.fit(X_train,y_train)\n",
    "\n",
    "\n",
    "\n",
    "datset = pd.DataFrame()\n",
    "datset['features'] = X.columns[range(len(sl_fit.scores_))]\n",
    "datset['scores'] = sl_fit.scores_\n",
    "datset = datset.sort_values(\"scores\",ascending=False)\n",
    "sns.barplot(datset['scores'], datset['features'], color='blue')\n",
    "plt.ylabel('categorical features', fontsize=20)\n",
    "plt.xlabel('scores',fontsize=20)\n",
    "plt.show()"
   ]
  },
  {
   "cell_type": "code",
   "execution_count": 60,
   "id": "residential-report",
   "metadata": {
    "colab": {
     "base_uri": "https://localhost:8080/"
    },
    "id": "composite-dinner",
    "outputId": "ade58743-1b7d-4ab6-bab2-9ba40194a517"
   },
   "outputs": [
    {
     "data": {
      "text/plain": [
       "Index(['PAY_1', 'PAY_2', 'PAY_3', 'PAY_4', 'PAY_5', 'PAY_6',\n",
       "       'Categorical_LIMIT_BAL_encode', 'Categorical_BILL_AMT4_encode',\n",
       "       'Categorical_BILL_AMT5_encode', 'Categorical_BILL_AMT6_encode'],\n",
       "      dtype='object')"
      ]
     },
     "execution_count": 60,
     "metadata": {},
     "output_type": "execute_result"
    }
   ],
   "source": [
    "best = SelectKBest(chi2,k=10).fit(X_train, y_train)\n",
    "X_train.columns[best.get_support()]"
   ]
  },
  {
   "cell_type": "code",
   "execution_count": 61,
   "id": "informational-accreditation",
   "metadata": {
    "id": "specific-property"
   },
   "outputs": [],
   "source": [
    "# removes other features and keeps only the best features\n",
    "\n",
    "X_train = best.transform(X_train)\n",
    "X_test = best.transform(X_test)"
   ]
  },
  {
   "cell_type": "code",
   "execution_count": 62,
   "id": "adjusted-ukraine",
   "metadata": {
    "colab": {
     "base_uri": "https://localhost:8080/"
    },
    "id": "infectious-shape",
    "outputId": "53ac27e8-0e3a-463e-f9dc-8e40d0b85c17"
   },
   "outputs": [
    {
     "data": {
      "text/plain": [
       "array([0, 0, 0, 0, 0, 0, 2, 0, 0, 0])"
      ]
     },
     "execution_count": 62,
     "metadata": {},
     "output_type": "execute_result"
    }
   ],
   "source": [
    "X_train[0]"
   ]
  },
  {
   "cell_type": "markdown",
   "id": "adjacent-details",
   "metadata": {},
   "source": [
    "# 10) Model Development:"
   ]
  },
  {
   "cell_type": "markdown",
   "id": "polyphonic-graduate",
   "metadata": {
    "id": "nasty-wrist"
   },
   "source": [
    "# ------> Using KNN algorithm to train and test model"
   ]
  },
  {
   "cell_type": "code",
   "execution_count": 63,
   "id": "professional-mentor",
   "metadata": {
    "colab": {
     "base_uri": "https://localhost:8080/",
     "height": 421
    },
    "id": "equipped-diameter",
    "outputId": "403c10d2-c330-49ec-8983-c1b8cf9f7977"
   },
   "outputs": [
    {
     "name": "stdout",
     "output_type": "stream",
     "text": [
      "Maximum accuracy:  0.793233082706767 at k = 34\n"
     ]
    },
    {
     "data": {
      "image/png": "[encoded data removed]",
      "text/plain": [
       "<Figure size 720x432 with 1 Axes>"
      ]
     },
     "metadata": {
      "needs_background": "light"
     },
     "output_type": "display_data"
    }
   ],
   "source": [
    "# we try finding the optimal value of k to get best performance of knn\n",
    "\n",
    "from sklearn.neighbors import KNeighborsClassifier\n",
    "\n",
    "acc = []\n",
    "\n",
    "from sklearn import metrics\n",
    "for i in range(1,40):\n",
    "    knn = KNeighborsClassifier(n_neighbors = i).fit(X_train,y_train)\n",
    "    ypred = knn.predict(X_test)\n",
    "    acc.append(metrics.accuracy_score(y_test, ypred))\n",
    "    \n",
    "plt.figure(figsize=(10,6))\n",
    "plt.plot(range(1,40),acc,color = 'blue',linestyle='dashed', \n",
    "         marker='o',markerfacecolor='red', markersize=10)\n",
    "plt.title('accuracy vs. K Value')\n",
    "plt.xlabel('K')\n",
    "plt.ylabel('Accuracy')\n",
    "print(\"Maximum accuracy: \",max(acc),\"at k =\",acc.index(max(acc)))"
   ]
  },
  {
   "cell_type": "code",
   "execution_count": 64,
   "id": "defensive-migration",
   "metadata": {
    "id": "separated-wright"
   },
   "outputs": [],
   "source": [
    "knn = KNeighborsClassifier(n_neighbors=34)\n",
    "knn.fit(X_train,y_train)\n",
    "\n",
    "y_pred = knn.predict(X_test)"
   ]
  },
  {
   "cell_type": "code",
   "execution_count": 65,
   "id": "cutting-summit",
   "metadata": {
    "colab": {
     "base_uri": "https://localhost:8080/"
    },
    "id": "literary-learning",
    "outputId": "513e56e4-47a8-4b6a-a288-1c7c454d3b69"
   },
   "outputs": [
    {
     "name": "stdout",
     "output_type": "stream",
     "text": [
      "Accuracy: 0.7919799498746867\n"
     ]
    }
   ],
   "source": [
    "from sklearn import metrics\n",
    "\n",
    "\n",
    "print(\"Accuracy:\",metrics.accuracy_score(y_test, y_pred))\n"
   ]
  },
  {
   "cell_type": "code",
   "execution_count": 66,
   "id": "rocky-copper",
   "metadata": {
    "colab": {
     "base_uri": "https://localhost:8080/",
     "height": 341
    },
    "id": "beautiful-quality",
    "outputId": "a58d92cf-dc2b-4180-9dde-70cafdfa5761"
   },
   "outputs": [
    {
     "name": "stdout",
     "output_type": "stream",
     "text": [
      "[[455  71]\n",
      " [ 95 177]]\n"
     ]
    },
    {
     "data": {
      "image/png": "[encoded data removed]",
      "text/plain": [
       "<Figure size 432x288 with 1 Axes>"
      ]
     },
     "metadata": {
      "needs_background": "light"
     },
     "output_type": "display_data"
    }
   ],
   "source": [
    "from sklearn.metrics import confusion_matrix\n",
    "cm = confusion_matrix(y_test,y_pred)\n",
    "print(cm)\n",
    "plt.clf()\n",
    "plt.imshow(cm,interpolation='nearest',cmap = plt.cm.Wistia)\n",
    "classnames = ['negative','positive']\n",
    "tick_marks = np.arange(len(classnames))\n",
    "plt.xlabel(\"predicted value\")\n",
    "plt.ylabel(\"actual value\")\n",
    "plt.xticks(tick_marks,classnames,rotation=45)\n",
    "plt.yticks(tick_marks,classnames)\n",
    "s = [['TN','FP'],['FN','TP']]\n",
    "\n",
    "\n",
    "for i in range(2):\n",
    "    for j in range(2):\n",
    "        plt.text(j,i,str(s[i][j])+\" = \"+str(cm[i][j]))\n",
    "plt.show()"
   ]
  },
  {
   "cell_type": "code",
   "execution_count": 67,
   "id": "loose-control",
   "metadata": {
    "colab": {
     "base_uri": "https://localhost:8080/"
    },
    "id": "dietary-poker",
    "outputId": "67d62ae9-340c-4bc5-de02-e1f0a36a0dae"
   },
   "outputs": [
    {
     "name": "stdout",
     "output_type": "stream",
     "text": [
      "Accuracy: 0.7919799498746867\n",
      "Precision: 0.7137096774193549\n",
      "Recall: 0.6507352941176471\n"
     ]
    }
   ],
   "source": [
    "print(\"Accuracy:\",metrics.accuracy_score(y_test, y_pred))\n",
    "print(\"Precision:\", (cm[1][1] / (cm[0][1] + cm[1][1])))\n",
    "print(\"Recall:\", (cm[1][1] / (cm[1][0] + cm[1][1])))"
   ]
  },
  {
   "cell_type": "markdown",
   "id": "adjustable-brave",
   "metadata": {
    "id": "located-affairs"
   },
   "source": [
    "# ------> Using Random Forest Classifier to train and test model"
   ]
  },
  {
   "cell_type": "code",
   "execution_count": 68,
   "id": "fiscal-silver",
   "metadata": {
    "id": "foreign-reynolds"
   },
   "outputs": [],
   "source": [
    "from sklearn.ensemble import RandomForestClassifier\n",
    "from sklearn.model_selection import GridSearchCV\n",
    "\n"
   ]
  },
  {
   "cell_type": "code",
   "execution_count": 69,
   "id": "chicken-general",
   "metadata": {
    "colab": {
     "base_uri": "https://localhost:8080/"
    },
    "id": "golden-registrar",
    "outputId": "5cca2fa6-63ee-47b6-c79a-e1d5321e04ac",
    "scrolled": true
   },
   "outputs": [
    {
     "name": "stdout",
     "output_type": "stream",
     "text": [
      "best params are:  {'max_depth': 7, 'n_estimators': 100}\n"
     ]
    }
   ],
   "source": [
    "# Selecting the best parameters for Random Forest Classifier using GridSearchCV\n",
    "\n",
    "rfc=RandomForestClassifier(n_estimators=100)\n",
    "\n",
    "parameters = {\n",
    "    \"n_estimators\": [50, 100, 150, 200, 250, 300, 500],\n",
    "    \"max_depth\": [1, 3, 5, 7],\n",
    "}\n",
    "\n",
    "c = GridSearchCV(rfc, parameters, cv=5)\n",
    "c.fit(X_train, np.ravel(y_train))\n",
    "\n",
    "def display(results):\n",
    "    print(\"best params are: \", results.best_params_)\n",
    "\n",
    "\n",
    "\n",
    "display(c)"
   ]
  },
  {
   "cell_type": "code",
   "execution_count": 70,
   "id": "swiss-consent",
   "metadata": {
    "id": "classical-battery"
   },
   "outputs": [],
   "source": [
    "rfc=RandomForestClassifier(n_estimators=250, max_depth=5)\n",
    "\n",
    "rfc.fit(X_train,y_train)\n",
    "\n",
    "y_pred2 =rfc.predict(X_test)"
   ]
  },
  {
   "cell_type": "code",
   "execution_count": 71,
   "id": "female-mason",
   "metadata": {
    "colab": {
     "base_uri": "https://localhost:8080/"
    },
    "id": "empirical-expense",
    "outputId": "d7f9d2eb-02a0-4410-83db-647a32e02b78"
   },
   "outputs": [
    {
     "name": "stdout",
     "output_type": "stream",
     "text": [
      "Accuracy: 0.7919799498746867\n"
     ]
    }
   ],
   "source": [
    "from sklearn import metrics\n",
    "\n",
    "print(\"Accuracy:\",metrics.accuracy_score(y_test, y_pred2))"
   ]
  },
  {
   "cell_type": "code",
   "execution_count": 72,
   "id": "indirect-executive",
   "metadata": {
    "colab": {
     "base_uri": "https://localhost:8080/",
     "height": 341
    },
    "id": "hybrid-regular",
    "outputId": "8dddb960-19ef-4d74-c990-672c5294a564"
   },
   "outputs": [
    {
     "name": "stdout",
     "output_type": "stream",
     "text": [
      "[[448  78]\n",
      " [ 88 184]]\n"
     ]
    },
    {
     "data": {
      "image/png": "[encoded data removed]",
      "text/plain": [
       "<Figure size 432x288 with 1 Axes>"
      ]
     },
     "metadata": {
      "needs_background": "light"
     },
     "output_type": "display_data"
    }
   ],
   "source": [
    "from sklearn.metrics import confusion_matrix\n",
    "cm2 = confusion_matrix(y_test,y_pred2)\n",
    "print(cm2)\n",
    "plt.clf()\n",
    "plt.imshow(cm,interpolation='nearest',cmap = plt.cm.gist_ncar_r)\n",
    "classnames = ['negative','positive']\n",
    "tick_marks = np.arange(len(classnames))\n",
    "plt.xlabel(\"predicted value\")\n",
    "plt.ylabel(\"actual value\")\n",
    "plt.xticks(tick_marks,classnames,rotation=45)\n",
    "plt.yticks(tick_marks,classnames)\n",
    "s = [['TN','FP'],['FN','TP']]\n",
    "\n",
    "\n",
    "for i in range(2):\n",
    "    for j in range(2):\n",
    "        plt.text(j,i,str(s[i][j])+\" = \"+str(cm2[i][j]))\n",
    "plt.show()"
   ]
  },
  {
   "cell_type": "code",
   "execution_count": 73,
   "id": "ordered-pantyhose",
   "metadata": {
    "colab": {
     "base_uri": "https://localhost:8080/"
    },
    "id": "fundamental-copper",
    "outputId": "18836a0e-0453-408d-dd8c-9d18bea3b10b"
   },
   "outputs": [
    {
     "name": "stdout",
     "output_type": "stream",
     "text": [
      "Accuracy: 0.7919799498746867\n",
      "Precision: 0.7022900763358778\n",
      "Recall: 0.6764705882352942\n"
     ]
    }
   ],
   "source": [
    "print(\"Accuracy:\",metrics.accuracy_score(y_test, y_pred2))\n",
    "print(\"Precision:\", (cm2[1][1] / (cm2[0][1] + cm2[1][1])))\n",
    "print(\"Recall:\", (cm2[1][1] / (cm2[1][0] + cm2[1][1])))"
   ]
  },
  {
   "cell_type": "code",
   "execution_count": 73,
   "id": "blocked-bronze",
   "metadata": {
    "id": "regional-denmark"
   },
   "outputs": [],
   "source": []
  },
  {
   "cell_type": "markdown",
   "id": "cardiac-reward",
   "metadata": {
    "id": "lyric-combat"
   },
   "source": [
    "# ------> Using Naive Bayes to train and test model"
   ]
  },
  {
   "cell_type": "code",
   "execution_count": 74,
   "id": "virtual-offer",
   "metadata": {
    "id": "widespread-proceeding"
   },
   "outputs": [],
   "source": [
    "from sklearn.naive_bayes import GaussianNB\n",
    "\n",
    "nb = GaussianNB()\n",
    "\n",
    "nb.fit(X_train,y_train)\n",
    "\n",
    "y_pred3 =nb.predict(X_test)"
   ]
  },
  {
   "cell_type": "code",
   "execution_count": 75,
   "id": "subsequent-converter",
   "metadata": {
    "colab": {
     "base_uri": "https://localhost:8080/",
     "height": 341
    },
    "id": "formal-prison",
    "outputId": "0cadd66b-83c6-47aa-8c40-36248931bbfe"
   },
   "outputs": [
    {
     "name": "stdout",
     "output_type": "stream",
     "text": [
      "[[447  79]\n",
      " [ 86 186]]\n"
     ]
    },
    {
     "data": {
      "image/png": "[encoded data removed]",
      "text/plain": [
       "<Figure size 432x288 with 1 Axes>"
      ]
     },
     "metadata": {
      "needs_background": "light"
     },
     "output_type": "display_data"
    }
   ],
   "source": [
    "cm3 = confusion_matrix(y_test,y_pred3)\n",
    "print(cm3)\n",
    "plt.clf()\n",
    "plt.imshow(cm3,interpolation='nearest',cmap = plt.cm.gist_ncar_r)\n",
    "classnames = ['negative','positive']\n",
    "tick_marks = np.arange(len(classnames))\n",
    "plt.xlabel(\"predicted value\")\n",
    "plt.ylabel(\"actual value\")\n",
    "plt.xticks(tick_marks,classnames,rotation=45)\n",
    "plt.yticks(tick_marks,classnames)\n",
    "s = [['TN','FP'],['FN','TP']]\n",
    "\n",
    "\n",
    "for i in range(2):\n",
    "    for j in range(2):\n",
    "        plt.text(j,i,str(s[i][j])+\" = \"+str(cm3[i][j]))\n",
    "plt.show()"
   ]
  },
  {
   "cell_type": "code",
   "execution_count": 76,
   "id": "developmental-honey",
   "metadata": {
    "colab": {
     "base_uri": "https://localhost:8080/"
    },
    "id": "wound-mattress",
    "outputId": "f02e9cd0-1763-4f5d-da2e-e0314167b0ca"
   },
   "outputs": [
    {
     "name": "stdout",
     "output_type": "stream",
     "text": [
      "Accuracy: 0.793233082706767\n",
      "Precision: 0.7018867924528301\n",
      "Recall: 0.6838235294117647\n"
     ]
    }
   ],
   "source": [
    "print(\"Accuracy:\",metrics.accuracy_score(y_test, y_pred3))\n",
    "print(\"Precision:\", (cm3[1][1] / (cm3[0][1] + cm3[1][1])))\n",
    "print(\"Recall:\", (cm3[1][1] / (cm3[1][0] + cm3[1][1])))"
   ]
  },
  {
   "cell_type": "markdown",
   "id": "upset-seven",
   "metadata": {
    "id": "HDkcVt_aSYWQ"
   },
   "source": [
    "# ------> Using Gradient Boosting Classifier"
   ]
  },
  {
   "cell_type": "code",
   "execution_count": 77,
   "id": "identified-retention",
   "metadata": {
    "id": "VVKnPzunSS8N"
   },
   "outputs": [],
   "source": [
    "from sklearn.ensemble import GradientBoostingClassifier\n",
    "\n",
    "\n",
    "gbc = GradientBoostingClassifier()"
   ]
  },
  {
   "cell_type": "code",
   "execution_count": 79,
   "id": "finnish-fairy",
   "metadata": {
    "colab": {
     "base_uri": "https://localhost:8080/",
     "height": 375
    },
    "id": "ff9kd7ALSdO1",
    "outputId": "444fdb69-d5e8-417f-b8c6-123c4a52a26a"
   },
   "outputs": [
    {
     "name": "stdout",
     "output_type": "stream",
     "text": [
      "Accuracy: 0.793233082706767\n",
      "Precision: 0.7131474103585658\n",
      "Recall: 0.6580882352941176\n",
      "Confusion Martix:\n"
     ]
    },
    {
     "data": {
      "image/png": "[encoded data removed]",
      "text/plain": [
       "<Figure size 432x288 with 1 Axes>"
      ]
     },
     "metadata": {
      "needs_background": "light"
     },
     "output_type": "display_data"
    }
   ],
   "source": [
    "from sklearn.ensemble import GradientBoostingClassifier\n",
    "\n",
    "\n",
    "#gbc = GradientBoostingClassifier(n_estimators=nestimators, learning_rate=learningrate, max_depth=maxdepth)\n",
    "#gbc = GradientBoostingClassifier(n_estimators=250, learning_rate=0.01, max_depth=1)\n",
    "gbc.fit(X_train, np.ravel(y_train,order='C'))\n",
    "y_pred5 = gbc.predict(X_test)\n",
    "\n",
    "cm5 = confusion_matrix(y_test, y_pred5)\n",
    "\n",
    "print(\"Accuracy:\",metrics.accuracy_score(y_test, y_pred5))\n",
    "print(\"Precision:\", (cm5[1][1] / (cm5[0][1] + cm5[1][1])))\n",
    "print(\"Recall:\", (cm5[1][1] / (cm5[1][0] + cm5[1][1])))\n",
    "\n",
    "print(\"Confusion Martix:\")\n",
    "plt.clf()\n",
    "plt.imshow(cm5,interpolation='nearest',cmap = plt.cm.Blues)\n",
    "classnames = ['negative','positive']\n",
    "tick_marks = np.arange(len(classnames))\n",
    "plt.xlabel(\"predicted value\")\n",
    "plt.ylabel(\"actual value\")\n",
    "plt.xticks(tick_marks,classnames,rotation=45)\n",
    "plt.yticks(tick_marks,classnames)\n",
    "s = [['TN','FP'],['FN','TP']]\n",
    "\n",
    "\n",
    "for i in range(2):\n",
    "    for j in range(2):\n",
    "        plt.text(j,i,str(s[i][j])+\" = \"+str(cm5[i][j]))\n",
    "plt.show()"
   ]
  },
  {
   "cell_type": "markdown",
   "id": "young-longitude",
   "metadata": {
    "id": "DzufXRFaSKva"
   },
   "source": [
    "# 11) Summary of all models:"
   ]
  },
  {
   "cell_type": "code",
   "execution_count": 80,
   "id": "adequate-tenant",
   "metadata": {
    "colab": {
     "base_uri": "https://localhost:8080/"
    },
    "id": "flying-future",
    "outputId": "bedaed93-1c69-41f0-fa34-4d7a4b84462b"
   },
   "outputs": [
    {
     "name": "stdout",
     "output_type": "stream",
     "text": [
      "KNN PERFORMANCE:\n",
      "Accuracy: 0.7919799498746867\n",
      "Precision: 0.7137096774193549\n",
      "Recall: 0.6507352941176471\n",
      "\n",
      "RANDOM FOREST CLASSIFIER PERFORMANCE: \n",
      "Accuracy: 0.7919799498746867\n",
      "Precision: 0.7022900763358778\n",
      "Recall: 0.6764705882352942\n",
      "\n",
      "NAIVE BAYES PERFORMANCE: \n",
      "Accuracy: 0.793233082706767\n",
      "Precision: 0.7018867924528301\n",
      "Recall: 0.6838235294117647\n",
      "\n",
      "Gradient Boosting Classifier: \n",
      "Accuracy: 0.793233082706767\n",
      "Precision: 0.7131474103585658\n",
      "Recall: 0.6580882352941176\n"
     ]
    }
   ],
   "source": [
    "print(\"KNN PERFORMANCE:\")\n",
    "print(\"Accuracy:\",metrics.accuracy_score(y_test, y_pred))\n",
    "print(\"Precision:\", (cm[1][1] / (cm[0][1] + cm[1][1])))\n",
    "print(\"Recall:\", (cm[1][1] / (cm[1][0] + cm[1][1])))\n",
    "print(\"\")\n",
    "print(\"RANDOM FOREST CLASSIFIER PERFORMANCE: \")\n",
    "print(\"Accuracy:\",metrics.accuracy_score(y_test, y_pred2))\n",
    "print(\"Precision:\", (cm2[1][1] / (cm2[0][1] + cm2[1][1])))\n",
    "print(\"Recall:\", (cm2[1][1] / (cm2[1][0] + cm2[1][1])))\n",
    "print(\"\")\n",
    "print(\"NAIVE BAYES PERFORMANCE: \")\n",
    "print(\"Accuracy:\",metrics.accuracy_score(y_test, y_pred3))\n",
    "print(\"Precision:\", (cm3[1][1] / (cm3[0][1] + cm3[1][1])))\n",
    "print(\"Recall:\", (cm3[1][1] / (cm3[1][0] + cm3[1][1])))\n",
    "\n",
    "print(\"\")\n",
    "print(\"Gradient Boosting Classifier: \")\n",
    "print(\"Accuracy:\",metrics.accuracy_score(y_test, y_pred5))\n",
    "print(\"Precision:\", (cm5[1][1] / (cm5[0][1] + cm5[1][1])))\n",
    "print(\"Recall:\", (cm5[1][1] / (cm5[1][0] + cm5[1][1])))"
   ]
  },
  {
   "cell_type": "code",
   "execution_count": 81,
   "id": "mysterious-liquid",
   "metadata": {
    "colab": {
     "base_uri": "https://localhost:8080/",
     "height": 295
    },
    "id": "numeric-interference",
    "outputId": "83d0171a-ce39-4b69-8592-10b461502016"
   },
   "outputs": [
    {
     "data": {
      "image/png": "[encoded data removed]",
      "text/plain": [
       "<Figure size 432x288 with 1 Axes>"
      ]
     },
     "metadata": {
      "needs_background": "light"
     },
     "output_type": "display_data"
    }
   ],
   "source": [
    "from sklearn.metrics import roc_auc_score, roc_curve\n",
    "\n",
    "\n",
    "fpr1,tpr1,thresholds1 = roc_curve(y_test, knn.predict_proba(X_test)[:,1])\n",
    "\n",
    "fpr2,tpr2,thresholds2 = roc_curve(y_test, rfc.predict_proba(X_test)[:,1])\n",
    "\n",
    "\n",
    "fpr3,tpr3,thresholds3 = roc_curve(y_test, nb.predict_proba(X_test)[:,1])\n",
    "\n",
    "fpr5,tpr5,thresholds5 = roc_curve(y_test, gbc.predict_proba(X_test)[:,1])\n",
    "\n",
    "knn_roc_auc = roc_auc_score(y_test, knn.predict(X_test))\n",
    "rfc_roc_auc = roc_auc_score(y_test, rfc.predict(X_test))\n",
    "nb_roc_auc = roc_auc_score(y_test, nb.predict(X_test))\n",
    "gbc_roc_auc = roc_auc_score(y_test, gbc.predict(X_test))\n",
    "\n",
    "plt.figure()\n",
    "plt.plot(fpr1,tpr1,label=\"knn_roc_auc: \"+str(knn_roc_auc))\n",
    "plt.plot(fpr2,tpr2,label=\"rfc_roc_auc: \"+str(rfc_roc_auc))\n",
    "plt.plot(fpr3,tpr3,label=\"nb_roc_auc: \"+str(nb_roc_auc))\n",
    "plt.plot(fpr5,tpr5,label=\"gbc_roc_auc: \"+str(gbc_roc_auc))\n",
    "\n",
    "plt.plot([0,1],[0,1],'r--')\n",
    "plt.legend(loc=\"lower right\")\n",
    "plt.xlabel(\"False Positive Rate\")\n",
    "plt.ylabel(\"True Positive Rate\")\n",
    "\n",
    "plt.title(\"Plot\")\n",
    "plt.show()"
   ]
  },
  {
   "cell_type": "markdown",
   "id": "portable-month",
   "metadata": {
    "id": "cooperative-daughter"
   },
   "source": [
    "## we see that all models perform the same more or less "
   ]
  }
 ],
 "metadata": {
  "colab": {
   "collapsed_sections": [
    "portable-aspect",
    "unable-stationery",
    "atmospheric-cigarette",
    "opening-surface",
    "ideal-parts",
    "muslim-growth"
   ],
   "name": "CreditCardPaymentDefault.ipynb",
   "provenance": []
  },
  "kernelspec": {
   "display_name": "Python 3",
   "language": "python",
   "name": "python3"
  },
  "language_info": {
   "codemirror_mode": {
    "name": "ipython",
    "version": 3
   },
   "file_extension": ".py",
   "mimetype": "text/x-python",
   "name": "python",
   "nbconvert_exporter": "python",
   "pygments_lexer": "ipython3",
   "version": "3.7.9"
  }
 },
 "nbformat": 4,
 "nbformat_minor": 5
}
